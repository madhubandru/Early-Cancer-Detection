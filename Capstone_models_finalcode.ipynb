{
 "cells": [
  {
   "cell_type": "markdown",
   "metadata": {
    "id": "iUF8b026UQnT"
   },
   "source": [
    "Imports Required for the modelling"
   ]
  },
  {
   "cell_type": "code",
   "execution_count": 1,
   "metadata": {
    "colab": {
     "base_uri": "https://localhost:8080/"
    },
    "id": "onwTA8wGUA-W",
    "outputId": "0cf1806e-0198-4b6a-81db-21b592b24396"
   },
   "outputs": [],
   "source": [
    "import pandas as pd #dataframe\n",
    "import numpy as np #numpy\n",
    "#Sklearn models\n",
    "from mlxtend.feature_selection import SequentialFeatureSelector as sfs #estimator\n",
    "from sklearn.model_selection import train_test_split #split x_train, x_test\n",
    "from sklearn.ensemble import RandomForestClassifier #Classifier random\n",
    "from sklearn import tree #Classifier decision tree\n",
    "from sklearn.metrics import accuracy_score as acc #scoring\n",
    "from sklearn.linear_model import LogisticRegression #classifier\n",
    "from sklearn.pipeline import Pipeline #pipeline\n",
    "from sklearn.impute import SimpleImputer #imputer\n",
    "from sklearn.preprocessing import StandardScaler #scaler\n",
    "import matplotlib.pyplot as plt  #plot graphs\n",
    "from sklearn.datasets import make_classification\n",
    "from sklearn.metrics import plot_confusion_matrix #confusion matrix\n",
    "from sklearn.model_selection import train_test_split # test train splitter\n",
    "from sklearn.feature_selection import mutual_info_classif #mutual info\n",
    "\n",
    "#deep learning models\n",
    "import tensorflow as tf #tensorflow\n",
    "from tensorflow import keras #keras\n",
    "from keras import Sequential \n",
    "from keras.layers import Dense\n",
    "from tensorflow.keras import Sequential\n",
    "from tensorflow.keras.layers import Conv2D, Flatten, Dense\n",
    "\n"
   ]
  },
  {
   "cell_type": "code",
   "execution_count": 2,
   "metadata": {},
   "outputs": [],
   "source": [
    "np.random.seed(seed=42)"
   ]
  },
  {
   "cell_type": "markdown",
   "metadata": {
    "id": "hm1gytfoU8YC"
   },
   "source": [
    "Load prepared data to Dataframe"
   ]
  },
  {
   "cell_type": "code",
   "execution_count": 3,
   "metadata": {
    "id": "BuOARMCMUV7n"
   },
   "outputs": [],
   "source": [
    "my_df=pd.read_csv('data.csv') #data\n"
   ]
  },
  {
   "cell_type": "markdown",
   "metadata": {
    "id": "KA-J9GUdVN3k"
   },
   "source": [
    "Preparing Data for Binary Classification"
   ]
  },
  {
   "cell_type": "code",
   "execution_count": 4,
   "metadata": {
    "id": "pQcfPjHjVIpE"
   },
   "outputs": [],
   "source": [
    "y=my_df['Target'].copy() # set y as target value (positive and negative) - binary\n",
    "x=my_df.drop(['Age','Plasma_volume(mL)','Tumor_type','AJCC_Stage','Sex',\n",
    "       'Plasma_DNA_concentration(ng/mL)', 'Mutation_identified_in_plasma',\n",
    "       'Mutant_allele_frequency(%)', 'Mutant_fragments/mL_plasma','Mutation_identified_in_plasma','Target','Patient_ID','Sample_ID','Tumor_type','AJCC_Stage','Histopathology','Race','Unnamed: 0'],axis=1)\n",
    "# Set x with protien biomarkers"
   ]
  },
  {
   "cell_type": "markdown",
   "metadata": {
    "id": "7NkiQWfsVoji"
   },
   "source": [
    "Few columns have null values, imputing the values with median and scaling the dataset"
   ]
  },
  {
   "cell_type": "code",
   "execution_count": 5,
   "metadata": {
    "id": "JRKgSHZtVkOb"
   },
   "outputs": [],
   "source": [
    "num_pipeline = Pipeline([\n",
    "('imputer', SimpleImputer(strategy=\"median\")),\n",
    "('std_scaler', StandardScaler()),\n",
    "]) #created pipeline with Imputer and scalar\n",
    "\n",
    "df_prepared = num_pipeline.fit_transform(x) #passing prepared x to the pipeline\n",
    "new_x = pd.DataFrame(df_prepared) #converting transformed data to DF\n",
    "new_x.columns = x.columns"
   ]
  },
  {
   "cell_type": "markdown",
   "metadata": {
    "id": "yGl-cNG-WM6n"
   },
   "source": [
    "Test Train Split, 75% train data, 25% test data"
   ]
  },
  {
   "cell_type": "code",
   "execution_count": 6,
   "metadata": {
    "id": "uneVQvHMV19i"
   },
   "outputs": [],
   "source": [
    "x_train, x_test, y_train, y_test = train_test_split(\n",
    "    new_x, # imputed and scaled values of x \n",
    "    y, # y labels\n",
    "    test_size=0.25, # test size to 25%\n",
    "    random_state=42) #random state 42 to maintain even distribution every time the data is sliced"
   ]
  },
  {
   "cell_type": "markdown",
   "metadata": {},
   "source": [
    "#### creating a list of column names identified using domain knowledge"
   ]
  },
  {
   "cell_type": "code",
   "execution_count": 7,
   "metadata": {},
   "outputs": [],
   "source": [
    "report_clms=['CA19-9(U/ml)','HGF(pg/ml)','CA-125(U/ml)','OPN(pg/ml)','CEA(pg/ml)',\n",
    "             'Ω score','Prolactin(pg/ml)','Myeloperoxidase(ng/ml)','TIMP-1(pg/ml)']\n"
   ]
  },
  {
   "cell_type": "markdown",
   "metadata": {
    "id": "WClaPUppWw95"
   },
   "source": [
    "Mutual Info Classification: \n",
    "Gives weigthage of each column "
   ]
  },
  {
   "cell_type": "code",
   "execution_count": 8,
   "metadata": {
    "colab": {
     "base_uri": "https://localhost:8080/"
    },
    "id": "lusvB6-YWT56",
    "outputId": "a583228d-d7c3-4d34-9d59-2cc39dbeb0c7"
   },
   "outputs": [
    {
     "data": {
      "text/html": [
       "<div>\n",
       "<style scoped>\n",
       "    .dataframe tbody tr th:only-of-type {\n",
       "        vertical-align: middle;\n",
       "    }\n",
       "\n",
       "    .dataframe tbody tr th {\n",
       "        vertical-align: top;\n",
       "    }\n",
       "\n",
       "    .dataframe thead th {\n",
       "        text-align: right;\n",
       "    }\n",
       "</style>\n",
       "<table border=\"1\" class=\"dataframe\">\n",
       "  <thead>\n",
       "    <tr style=\"text-align: right;\">\n",
       "      <th></th>\n",
       "      <th>0</th>\n",
       "    </tr>\n",
       "  </thead>\n",
       "  <tbody>\n",
       "    <tr>\n",
       "      <th>CA19-9(U/ml)</th>\n",
       "      <td>0.496480</td>\n",
       "    </tr>\n",
       "    <tr>\n",
       "      <th>CA-125(U/ml)</th>\n",
       "      <td>0.402727</td>\n",
       "    </tr>\n",
       "    <tr>\n",
       "      <th>HGF(pg/ml)</th>\n",
       "      <td>0.394341</td>\n",
       "    </tr>\n",
       "    <tr>\n",
       "      <th>CEA(pg/ml)</th>\n",
       "      <td>0.201944</td>\n",
       "    </tr>\n",
       "    <tr>\n",
       "      <th>OPN(pg/ml)</th>\n",
       "      <td>0.201156</td>\n",
       "    </tr>\n",
       "    <tr>\n",
       "      <th>Ω score</th>\n",
       "      <td>0.139120</td>\n",
       "    </tr>\n",
       "    <tr>\n",
       "      <th>Prolactin(pg/ml)</th>\n",
       "      <td>0.130786</td>\n",
       "    </tr>\n",
       "    <tr>\n",
       "      <th>Myeloperoxidase(ng/ml)</th>\n",
       "      <td>0.111053</td>\n",
       "    </tr>\n",
       "    <tr>\n",
       "      <th>TIMP-1(pg/ml)</th>\n",
       "      <td>0.095726</td>\n",
       "    </tr>\n",
       "  </tbody>\n",
       "</table>\n",
       "</div>"
      ],
      "text/plain": [
       "                               0\n",
       "CA19-9(U/ml)            0.496480\n",
       "CA-125(U/ml)            0.402727\n",
       "HGF(pg/ml)              0.394341\n",
       "CEA(pg/ml)              0.201944\n",
       "OPN(pg/ml)              0.201156\n",
       "Ω score                 0.139120\n",
       "Prolactin(pg/ml)        0.130786\n",
       "Myeloperoxidase(ng/ml)  0.111053\n",
       "TIMP-1(pg/ml)           0.095726"
      ]
     },
     "execution_count": 8,
     "metadata": {},
     "output_type": "execute_result"
    }
   ],
   "source": [
    "mutual_info = mutual_info_classif(x_train[report_clms], y_train) #using train data to calculate \n",
    "mutual_info = pd.Series(mutual_info)\n",
    "mutual_info.index = x_train[report_clms].columns\n",
    "pd.DataFrame(mutual_info.sort_values(ascending=False))"
   ]
  },
  {
   "cell_type": "markdown",
   "metadata": {},
   "source": [
    "## Random Forest"
   ]
  },
  {
   "cell_type": "markdown",
   "metadata": {},
   "source": [
    "#### Training the estimator using the columns identified from domain knowledge"
   ]
  },
  {
   "cell_type": "code",
   "execution_count": 9,
   "metadata": {},
   "outputs": [
    {
     "name": "stdout",
     "output_type": "stream",
     "text": [
      "Testing accuracy on selected features: 0.916\n"
     ]
    }
   ],
   "source": [
    "clf_random = RandomForestClassifier()  #random forest - n_estimators set to default to minimize time taken for prediction\n",
    "\n",
    "clf_random.fit(x_train[report_clms], y_train)\n",
    "\n",
    "y_test_pred_domain = clf_random.predict(x_test[report_clms])\n",
    "print('Testing accuracy on selected features: %.3f' % acc(y_test, y_test_pred_domain))"
   ]
  },
  {
   "cell_type": "markdown",
   "metadata": {
    "id": "moRm-3YlXE1X"
   },
   "source": [
    "#### Random Forest Classification model with Sequential Feature Selector"
   ]
  },
  {
   "cell_type": "code",
   "execution_count": 17,
   "metadata": {
    "colab": {
     "base_uri": "https://localhost:8080/"
    },
    "id": "gBHdg5GLXAQJ",
    "outputId": "0746bb4d-dfb9-4e4b-ce0f-86c262c6c68b"
   },
   "outputs": [],
   "source": [
    "### The code for SFS - Forward\n",
    "\n",
    "sfs_random = sfs(RandomForestClassifier(n_estimators=100, n_jobs=-1), #estimator set to default\n",
    "           k_features=(1,x_train.shape[1]),\n",
    "           forward=True,\n",
    "           floating=False,\n",
    "           verbose=2,\n",
    "           scoring='accuracy',\n",
    "           cv=5)\n",
    "\n",
    "sfs_random = sfs_random.fit(x_train, y_train) #fitting the model with train data"
   ]
  },
  {
   "cell_type": "code",
   "execution_count": 16,
   "metadata": {
    "colab": {
     "base_uri": "https://localhost:8080/"
    },
    "id": "6yvhaqwvW5Ss",
    "outputId": "d6681596-fe7d-4a9a-fdf0-5ccd7605dcf5"
   },
   "outputs": [],
   "source": [
    "feat_cols = list(sfs_random.k_feature_idx_) #list of selected best features for binary\n",
    "print(x_train[x_train.columns[feat_cols]].head(0)) #print names of selected columns\n"
   ]
  },
  {
   "cell_type": "code",
   "execution_count": 18,
   "metadata": {},
   "outputs": [],
   "source": [
    "import pickle\n",
    "\n",
    "# pickle.dump(sfs_random, open(filename, 'wb'))"
   ]
  },
  {
   "cell_type": "code",
   "execution_count": 19,
   "metadata": {},
   "outputs": [],
   "source": [
    "filename = 'sfs_random.sav'\n",
    "loaded_model = pickle.load(open(filename, 'rb'))"
   ]
  },
  {
   "cell_type": "markdown",
   "metadata": {},
   "source": [
    "#### Columns identified using SFS"
   ]
  },
  {
   "cell_type": "code",
   "execution_count": 20,
   "metadata": {},
   "outputs": [
    {
     "name": "stdout",
     "output_type": "stream",
     "text": [
      "Empty DataFrame\n",
      "Columns: [AFP(pg/ml), DKK1(ng/ml), G-CSF(pg/ml), GDF15(ng/ml), HE4(pg/ml), Mesothelin(ng/ml), OPG(ng/ml), sFas(pg/ml), TGFa(pg/ml)]\n",
      "Index: []\n"
     ]
    }
   ],
   "source": [
    "feat_cols = list(loaded_model.k_feature_idx_) #list of selected best features for binary\n",
    "print(x_train[x_train.columns[feat_cols]].head(0)) #print names of selected columns"
   ]
  },
  {
   "cell_type": "code",
   "execution_count": 21,
   "metadata": {},
   "outputs": [
    {
     "data": {
      "text/html": [
       "<div>\n",
       "<style scoped>\n",
       "    .dataframe tbody tr th:only-of-type {\n",
       "        vertical-align: middle;\n",
       "    }\n",
       "\n",
       "    .dataframe tbody tr th {\n",
       "        vertical-align: top;\n",
       "    }\n",
       "\n",
       "    .dataframe thead th {\n",
       "        text-align: right;\n",
       "    }\n",
       "</style>\n",
       "<table border=\"1\" class=\"dataframe\">\n",
       "  <thead>\n",
       "    <tr style=\"text-align: right;\">\n",
       "      <th></th>\n",
       "      <th>AFP(pg/ml)</th>\n",
       "      <th>DKK1(ng/ml)</th>\n",
       "      <th>G-CSF(pg/ml)</th>\n",
       "      <th>GDF15(ng/ml)</th>\n",
       "      <th>HE4(pg/ml)</th>\n",
       "      <th>Mesothelin(ng/ml)</th>\n",
       "      <th>OPG(ng/ml)</th>\n",
       "      <th>sFas(pg/ml)</th>\n",
       "      <th>TGFa(pg/ml)</th>\n",
       "    </tr>\n",
       "  </thead>\n",
       "  <tbody>\n",
       "    <tr>\n",
       "      <th>722</th>\n",
       "      <td>-0.121333</td>\n",
       "      <td>0.088608</td>\n",
       "      <td>-0.169896</td>\n",
       "      <td>0.299078</td>\n",
       "      <td>0.735978</td>\n",
       "      <td>-0.130283</td>\n",
       "      <td>-0.070880</td>\n",
       "      <td>-0.505827</td>\n",
       "      <td>-0.041290</td>\n",
       "    </tr>\n",
       "    <tr>\n",
       "      <th>1204</th>\n",
       "      <td>-0.120492</td>\n",
       "      <td>-1.041861</td>\n",
       "      <td>-0.380885</td>\n",
       "      <td>-0.544404</td>\n",
       "      <td>-0.184776</td>\n",
       "      <td>0.247516</td>\n",
       "      <td>-0.087385</td>\n",
       "      <td>-0.099156</td>\n",
       "      <td>-0.042053</td>\n",
       "    </tr>\n",
       "    <tr>\n",
       "      <th>1316</th>\n",
       "      <td>-0.120729</td>\n",
       "      <td>-0.318360</td>\n",
       "      <td>-0.206356</td>\n",
       "      <td>-0.583185</td>\n",
       "      <td>-0.207537</td>\n",
       "      <td>-0.438633</td>\n",
       "      <td>-0.334963</td>\n",
       "      <td>-0.236313</td>\n",
       "      <td>-0.043112</td>\n",
       "    </tr>\n",
       "    <tr>\n",
       "      <th>405</th>\n",
       "      <td>-0.116736</td>\n",
       "      <td>-0.476626</td>\n",
       "      <td>-0.182534</td>\n",
       "      <td>-0.282633</td>\n",
       "      <td>-0.162865</td>\n",
       "      <td>-0.232603</td>\n",
       "      <td>-0.301952</td>\n",
       "      <td>-0.507907</td>\n",
       "      <td>-0.038917</td>\n",
       "    </tr>\n",
       "    <tr>\n",
       "      <th>1406</th>\n",
       "      <td>-0.108758</td>\n",
       "      <td>0.834718</td>\n",
       "      <td>-0.181517</td>\n",
       "      <td>-0.205072</td>\n",
       "      <td>-0.180056</td>\n",
       "      <td>-0.376593</td>\n",
       "      <td>0.011645</td>\n",
       "      <td>0.287241</td>\n",
       "      <td>-0.006811</td>\n",
       "    </tr>\n",
       "    <tr>\n",
       "      <th>...</th>\n",
       "      <td>...</td>\n",
       "      <td>...</td>\n",
       "      <td>...</td>\n",
       "      <td>...</td>\n",
       "      <td>...</td>\n",
       "      <td>...</td>\n",
       "      <td>...</td>\n",
       "      <td>...</td>\n",
       "      <td>...</td>\n",
       "    </tr>\n",
       "    <tr>\n",
       "      <th>1130</th>\n",
       "      <td>-0.115130</td>\n",
       "      <td>-1.109689</td>\n",
       "      <td>-0.206356</td>\n",
       "      <td>-0.563794</td>\n",
       "      <td>-0.207537</td>\n",
       "      <td>-0.241863</td>\n",
       "      <td>-0.417488</td>\n",
       "      <td>0.508680</td>\n",
       "      <td>-0.043112</td>\n",
       "    </tr>\n",
       "    <tr>\n",
       "      <th>1294</th>\n",
       "      <td>-0.119571</td>\n",
       "      <td>0.879937</td>\n",
       "      <td>-0.191394</td>\n",
       "      <td>-0.563794</td>\n",
       "      <td>-0.179926</td>\n",
       "      <td>-0.325664</td>\n",
       "      <td>-0.400983</td>\n",
       "      <td>-0.216971</td>\n",
       "      <td>-0.040909</td>\n",
       "    </tr>\n",
       "    <tr>\n",
       "      <th>860</th>\n",
       "      <td>0.004527</td>\n",
       "      <td>-0.001829</td>\n",
       "      <td>-0.169896</td>\n",
       "      <td>1.045609</td>\n",
       "      <td>0.735978</td>\n",
       "      <td>1.577219</td>\n",
       "      <td>0.506799</td>\n",
       "      <td>-0.505827</td>\n",
       "      <td>-0.041290</td>\n",
       "    </tr>\n",
       "    <tr>\n",
       "      <th>1459</th>\n",
       "      <td>-0.118900</td>\n",
       "      <td>2.914781</td>\n",
       "      <td>-0.181517</td>\n",
       "      <td>1.229817</td>\n",
       "      <td>-0.180056</td>\n",
       "      <td>-0.243252</td>\n",
       "      <td>0.523305</td>\n",
       "      <td>0.258140</td>\n",
       "      <td>-0.039934</td>\n",
       "    </tr>\n",
       "    <tr>\n",
       "      <th>1126</th>\n",
       "      <td>-0.117909</td>\n",
       "      <td>-0.860986</td>\n",
       "      <td>-0.206356</td>\n",
       "      <td>-0.495928</td>\n",
       "      <td>-0.207537</td>\n",
       "      <td>-0.305756</td>\n",
       "      <td>-0.301952</td>\n",
       "      <td>0.314145</td>\n",
       "      <td>-0.043112</td>\n",
       "    </tr>\n",
       "  </tbody>\n",
       "</table>\n",
       "<p>1362 rows × 9 columns</p>\n",
       "</div>"
      ],
      "text/plain": [
       "      AFP(pg/ml)  DKK1(ng/ml)  G-CSF(pg/ml)  GDF15(ng/ml)  HE4(pg/ml)  \\\n",
       "722    -0.121333     0.088608     -0.169896      0.299078    0.735978   \n",
       "1204   -0.120492    -1.041861     -0.380885     -0.544404   -0.184776   \n",
       "1316   -0.120729    -0.318360     -0.206356     -0.583185   -0.207537   \n",
       "405    -0.116736    -0.476626     -0.182534     -0.282633   -0.162865   \n",
       "1406   -0.108758     0.834718     -0.181517     -0.205072   -0.180056   \n",
       "...          ...          ...           ...           ...         ...   \n",
       "1130   -0.115130    -1.109689     -0.206356     -0.563794   -0.207537   \n",
       "1294   -0.119571     0.879937     -0.191394     -0.563794   -0.179926   \n",
       "860     0.004527    -0.001829     -0.169896      1.045609    0.735978   \n",
       "1459   -0.118900     2.914781     -0.181517      1.229817   -0.180056   \n",
       "1126   -0.117909    -0.860986     -0.206356     -0.495928   -0.207537   \n",
       "\n",
       "      Mesothelin(ng/ml)  OPG(ng/ml)  sFas(pg/ml)  TGFa(pg/ml)  \n",
       "722           -0.130283   -0.070880    -0.505827    -0.041290  \n",
       "1204           0.247516   -0.087385    -0.099156    -0.042053  \n",
       "1316          -0.438633   -0.334963    -0.236313    -0.043112  \n",
       "405           -0.232603   -0.301952    -0.507907    -0.038917  \n",
       "1406          -0.376593    0.011645     0.287241    -0.006811  \n",
       "...                 ...         ...          ...          ...  \n",
       "1130          -0.241863   -0.417488     0.508680    -0.043112  \n",
       "1294          -0.325664   -0.400983    -0.216971    -0.040909  \n",
       "860            1.577219    0.506799    -0.505827    -0.041290  \n",
       "1459          -0.243252    0.523305     0.258140    -0.039934  \n",
       "1126          -0.305756   -0.301952     0.314145    -0.043112  \n",
       "\n",
       "[1362 rows x 9 columns]"
      ]
     },
     "execution_count": 21,
     "metadata": {},
     "output_type": "execute_result"
    }
   ],
   "source": [
    "x_train[x_train.columns[feat_cols]]"
   ]
  },
  {
   "cell_type": "code",
   "execution_count": 22,
   "metadata": {},
   "outputs": [
    {
     "data": {
      "text/plain": [
       "array([[<matplotlib.axes._subplots.AxesSubplot object at 0x7fa3d3f45f90>,\n",
       "        <matplotlib.axes._subplots.AxesSubplot object at 0x7fa3d3c54cd0>,\n",
       "        <matplotlib.axes._subplots.AxesSubplot object at 0x7fa3d5673b90>],\n",
       "       [<matplotlib.axes._subplots.AxesSubplot object at 0x7fa3d5621350>,\n",
       "        <matplotlib.axes._subplots.AxesSubplot object at 0x7fa3d6c7fb50>,\n",
       "        <matplotlib.axes._subplots.AxesSubplot object at 0x7fa3d6d47e50>],\n",
       "       [<matplotlib.axes._subplots.AxesSubplot object at 0x7fa3d6d82c90>,\n",
       "        <matplotlib.axes._subplots.AxesSubplot object at 0x7fa3d6df0490>,\n",
       "        <matplotlib.axes._subplots.AxesSubplot object at 0x7fa3d6df0f10>]],\n",
       "      dtype=object)"
      ]
     },
     "execution_count": 22,
     "metadata": {},
     "output_type": "execute_result"
    },
    {
     "data": {
      "image/png": "[encoded data removed]",
      "text/plain": [
       "<Figure size 432x288 with 9 Axes>"
      ]
     },
     "metadata": {
      "needs_background": "light"
     },
     "output_type": "display_data"
    }
   ],
   "source": [
    "x_train[x_train.columns[feat_cols]].hist()"
   ]
  },
  {
   "cell_type": "markdown",
   "metadata": {
    "id": "SC0tw9zlX1EE"
   },
   "source": [
    "Random Forest classifier fitted with features extracted from SFS"
   ]
  },
  {
   "cell_type": "code",
   "execution_count": 23,
   "metadata": {
    "colab": {
     "base_uri": "https://localhost:8080/"
    },
    "id": "JH8D8PUhYArp",
    "outputId": "5e71f8f6-d723-4acb-b3fb-2cc584ad50b9"
   },
   "outputs": [
    {
     "name": "stdout",
     "output_type": "stream",
     "text": [
      "Testing accuracy on selected features: 0.960\n"
     ]
    }
   ],
   "source": [
    "clf_random = RandomForestClassifier(min_samples_split=8,bootstrap=True,max_depth=80,max_features=3,min_samples_leaf=3,n_estimators=200, n_jobs=-1)  #random forest - n_estimators set to default to minimize time taken for prediction\n",
    "\n",
    "clf_random.fit(x_train[x_train.columns[feat_cols]], y_train)\n",
    "\n",
    "y_test_pred_sfs = clf_random.predict(x_test[x_test.columns[feat_cols]])\n",
    "print('Testing accuracy on selected features: %.3f' % acc(y_test, y_test_pred_sfs))"
   ]
  },
  {
   "cell_type": "markdown",
   "metadata": {
    "id": "riNnX-gIYOJV"
   },
   "source": [
    "#### Plotting Confusion matrix for the random forest classifier with features that were selected using SFS"
   ]
  },
  {
   "cell_type": "code",
   "execution_count": 24,
   "metadata": {
    "colab": {
     "base_uri": "https://localhost:8080/",
     "height": 279
    },
    "id": "vNYNBu0XYNna",
    "outputId": "a5a42547-645b-4f91-98ac-59512f85e7fb"
   },
   "outputs": [
    {
     "data": {
      "image/png": "[encoded data removed]",
      "text/plain": [
       "<Figure size 432x288 with 2 Axes>"
      ]
     },
     "metadata": {
      "needs_background": "light"
     },
     "output_type": "display_data"
    }
   ],
   "source": [
    "clf_random = RandomForestClassifier(n_estimators=100, n_jobs=-1)\n",
    "clf_random.fit(x_train[x_train.columns[feat_cols]], y_train)\n",
    "\n",
    "plot_confusion_matrix(clf_random, x_test[x_test.columns[feat_cols]], y_test)  \n",
    "plt.show() "
   ]
  },
  {
   "cell_type": "markdown",
   "metadata": {},
   "source": [
    "#### Plotting Confusion matrix for the random forest classifier with features that were identified using domain knowledge"
   ]
  },
  {
   "cell_type": "code",
   "execution_count": 25,
   "metadata": {},
   "outputs": [
    {
     "data": {
      "image/png": "[encoded data removed]",
      "text/plain": [
       "<Figure size 432x288 with 2 Axes>"
      ]
     },
     "metadata": {
      "needs_background": "light"
     },
     "output_type": "display_data"
    }
   ],
   "source": [
    "clf_random = RandomForestClassifier(n_estimators=100, n_jobs=-1)\n",
    "clf_random.fit(x_train[report_clms], y_train)\n",
    "\n",
    "plot_confusion_matrix(clf_random, x_test[report_clms], y_test)  \n",
    "plt.show() "
   ]
  },
  {
   "cell_type": "markdown",
   "metadata": {
    "id": "UcHfWthLYaog"
   },
   "source": [
    "#### Calulating the Specificity and sensitivity of predicted labels to evaluate performance of the model"
   ]
  },
  {
   "cell_type": "code",
   "execution_count": 26,
   "metadata": {
    "id": "TPNi9XnYYa6y"
   },
   "outputs": [],
   "source": [
    "def calculate_sensitivity_specificity(y_test, y_pred_test):\n",
    "    # Note: More parameters are defined than necessary. \n",
    "    # This would allow return of other measures other than sensitivity and specificity\n",
    "    \n",
    "    # Get true/false for whether a breach actually occurred\n",
    "    actual_pos = y_test == 'positive'\n",
    "    actual_neg = y_test == 'negative'\n",
    "    \n",
    "    # Get true and false test (true test match actual, false tests differ from actual)\n",
    "    true_pos = (y_pred_test == 'positive') & (actual_pos)\n",
    "    false_pos = (y_pred_test == 'positive') & (actual_neg)\n",
    "    true_neg = (y_pred_test == 'negative') & (actual_neg)\n",
    "    false_neg = (y_pred_test == 'negative') & (actual_pos)\n",
    "    \n",
    "    # Calculate accuracy\n",
    "    accuracy = np.mean(y_pred_test == y_test)\n",
    "    \n",
    "    # Calculate sensitivity and specificity\n",
    "    sensitivity = np.sum(true_pos) / np.sum(actual_pos)\n",
    "    specificity = np.sum(true_neg) / np.sum(actual_neg)\n",
    "    \n",
    "    return sensitivity, specificity, accuracy\n",
    "\n"
   ]
  },
  {
   "cell_type": "markdown",
   "metadata": {},
   "source": [
    "#### features that were identified using domain knowledge"
   ]
  },
  {
   "cell_type": "code",
   "execution_count": 27,
   "metadata": {
    "id": "yPPnEwYpDDeR"
   },
   "outputs": [
    {
     "name": "stdout",
     "output_type": "stream",
     "text": [
      "Sensitivity: 0.9186991869918699\n",
      "Specificity: 0.9138755980861244\n",
      "Accuracy: 0.9164835164835164\n"
     ]
    }
   ],
   "source": [
    "sensitivity, specificity, accuracy = calculate_sensitivity_specificity(y_test, y_test_pred_domain)\n",
    "print ('Sensitivity:', sensitivity)\n",
    "print ('Specificity:', specificity)\n",
    "print ('Accuracy:', accuracy)"
   ]
  },
  {
   "cell_type": "markdown",
   "metadata": {},
   "source": [
    "#### features that were selected using SFS"
   ]
  },
  {
   "cell_type": "code",
   "execution_count": 28,
   "metadata": {
    "scrolled": true
   },
   "outputs": [
    {
     "name": "stdout",
     "output_type": "stream",
     "text": [
      "Sensitivity: 0.9715447154471545\n",
      "Specificity: 0.9473684210526315\n",
      "Accuracy: 0.9604395604395605\n"
     ]
    }
   ],
   "source": [
    "sensitivity, specificity, accuracy = calculate_sensitivity_specificity(y_test, y_test_pred_sfs)\n",
    "print ('Sensitivity:', sensitivity)\n",
    "print ('Specificity:', specificity)\n",
    "print ('Accuracy:', accuracy)"
   ]
  },
  {
   "cell_type": "markdown",
   "metadata": {},
   "source": [
    "## Decision Tree"
   ]
  },
  {
   "cell_type": "markdown",
   "metadata": {
    "id": "8X4eGRnpYv8J"
   },
   "source": [
    "#### Decision Tree Classifier model with  with Sequential Feature Selector "
   ]
  },
  {
   "cell_type": "code",
   "execution_count": 29,
   "metadata": {
    "colab": {
     "base_uri": "https://localhost:8080/"
    },
    "id": "bJQ3heMAY5df",
    "outputId": "5f662de4-d2f9-4cc8-9709-9db5585391b0"
   },
   "outputs": [
    {
     "name": "stderr",
     "output_type": "stream",
     "text": [
      "[Parallel(n_jobs=1)]: Using backend SequentialBackend with 1 concurrent workers.\n",
      "[Parallel(n_jobs=1)]: Done   1 out of   1 | elapsed:    0.0s remaining:    0.0s\n",
      "[Parallel(n_jobs=1)]: Done  40 out of  40 | elapsed:    1.0s finished\n",
      "\n",
      "[2021-03-11 23:35:00] Features: 1/40 -- score: 0.9375834949364361[Parallel(n_jobs=1)]: Using backend SequentialBackend with 1 concurrent workers.\n",
      "[Parallel(n_jobs=1)]: Done   1 out of   1 | elapsed:    0.0s remaining:    0.0s\n",
      "[Parallel(n_jobs=1)]: Done  39 out of  39 | elapsed:    0.7s finished\n",
      "\n",
      "[2021-03-11 23:35:01] Features: 2/40 -- score: 0.9383403361344538[Parallel(n_jobs=1)]: Using backend SequentialBackend with 1 concurrent workers.\n",
      "[Parallel(n_jobs=1)]: Done   1 out of   1 | elapsed:    0.0s remaining:    0.0s\n",
      "[Parallel(n_jobs=1)]: Done  38 out of  38 | elapsed:    0.7s finished\n",
      "\n",
      "[2021-03-11 23:35:01] Features: 3/40 -- score: 0.9427386339151045[Parallel(n_jobs=1)]: Using backend SequentialBackend with 1 concurrent workers.\n",
      "[Parallel(n_jobs=1)]: Done   1 out of   1 | elapsed:    0.0s remaining:    0.0s\n",
      "[Parallel(n_jobs=1)]: Done  37 out of  37 | elapsed:    0.8s finished\n",
      "\n",
      "[2021-03-11 23:35:02] Features: 4/40 -- score: 0.936872441284206[Parallel(n_jobs=1)]: Using backend SequentialBackend with 1 concurrent workers.\n",
      "[Parallel(n_jobs=1)]: Done   1 out of   1 | elapsed:    0.0s remaining:    0.0s\n",
      "[Parallel(n_jobs=1)]: Done  36 out of  36 | elapsed:    0.8s finished\n",
      "\n",
      "[2021-03-11 23:35:03] Features: 5/40 -- score: 0.9375996552467141[Parallel(n_jobs=1)]: Using backend SequentialBackend with 1 concurrent workers.\n",
      "[Parallel(n_jobs=1)]: Done   1 out of   1 | elapsed:    0.0s remaining:    0.0s\n",
      "[Parallel(n_jobs=1)]: Done  35 out of  35 | elapsed:    0.9s finished\n",
      "\n",
      "[2021-03-11 23:35:04] Features: 6/40 -- score: 0.9302790346907994[Parallel(n_jobs=1)]: Using backend SequentialBackend with 1 concurrent workers.\n",
      "[Parallel(n_jobs=1)]: Done   1 out of   1 | elapsed:    0.0s remaining:    0.0s\n",
      "[Parallel(n_jobs=1)]: Done  34 out of  34 | elapsed:    1.0s finished\n",
      "\n",
      "[2021-03-11 23:35:05] Features: 7/40 -- score: 0.9287949795302737[Parallel(n_jobs=1)]: Using backend SequentialBackend with 1 concurrent workers.\n",
      "[Parallel(n_jobs=1)]: Done   1 out of   1 | elapsed:    0.0s remaining:    0.0s\n",
      "[Parallel(n_jobs=1)]: Done  33 out of  33 | elapsed:    1.1s finished\n",
      "\n",
      "[2021-03-11 23:35:06] Features: 8/40 -- score: 0.9258538030596855[Parallel(n_jobs=1)]: Using backend SequentialBackend with 1 concurrent workers.\n",
      "[Parallel(n_jobs=1)]: Done   1 out of   1 | elapsed:    0.0s remaining:    0.0s\n",
      "[Parallel(n_jobs=1)]: Done  32 out of  32 | elapsed:    1.1s finished\n",
      "\n",
      "[2021-03-11 23:35:07] Features: 9/40 -- score: 0.9265944839474252[Parallel(n_jobs=1)]: Using backend SequentialBackend with 1 concurrent workers.\n",
      "[Parallel(n_jobs=1)]: Done   1 out of   1 | elapsed:    0.0s remaining:    0.0s\n",
      "[Parallel(n_jobs=1)]: Done  31 out of  31 | elapsed:    1.1s finished\n",
      "\n",
      "[2021-03-11 23:35:08] Features: 10/40 -- score: 0.9273405516052575[Parallel(n_jobs=1)]: Using backend SequentialBackend with 1 concurrent workers.\n",
      "[Parallel(n_jobs=1)]: Done   1 out of   1 | elapsed:    0.0s remaining:    0.0s\n",
      "[Parallel(n_jobs=1)]: Done  30 out of  30 | elapsed:    1.2s finished\n",
      "\n",
      "[2021-03-11 23:35:09] Features: 11/40 -- score: 0.9222015729368671[Parallel(n_jobs=1)]: Using backend SequentialBackend with 1 concurrent workers.\n",
      "[Parallel(n_jobs=1)]: Done   1 out of   1 | elapsed:    0.0s remaining:    0.0s\n",
      "[Parallel(n_jobs=1)]: Done  29 out of  29 | elapsed:    1.3s finished\n",
      "\n",
      "[2021-03-11 23:35:11] Features: 12/40 -- score: 0.9177925016160311[Parallel(n_jobs=1)]: Using backend SequentialBackend with 1 concurrent workers.\n",
      "[Parallel(n_jobs=1)]: Done   1 out of   1 | elapsed:    0.0s remaining:    0.0s\n",
      "[Parallel(n_jobs=1)]: Done  28 out of  28 | elapsed:    1.3s finished\n",
      "\n",
      "[2021-03-11 23:35:12] Features: 13/40 -- score: 0.9141187244128421[Parallel(n_jobs=1)]: Using backend SequentialBackend with 1 concurrent workers.\n",
      "[Parallel(n_jobs=1)]: Done   1 out of   1 | elapsed:    0.0s remaining:    0.0s\n",
      "[Parallel(n_jobs=1)]: Done  27 out of  27 | elapsed:    1.3s finished\n",
      "\n",
      "[2021-03-11 23:35:13] Features: 14/40 -- score: 0.9199956905839258[Parallel(n_jobs=1)]: Using backend SequentialBackend with 1 concurrent workers.\n",
      "[Parallel(n_jobs=1)]: Done   1 out of   1 | elapsed:    0.0s remaining:    0.0s\n",
      "[Parallel(n_jobs=1)]: Done  26 out of  26 | elapsed:    1.3s finished\n",
      "\n",
      "[2021-03-11 23:35:15] Features: 15/40 -- score: 0.9236560008618833[Parallel(n_jobs=1)]: Using backend SequentialBackend with 1 concurrent workers.\n",
      "[Parallel(n_jobs=1)]: Done   1 out of   1 | elapsed:    0.0s remaining:    0.0s\n",
      "[Parallel(n_jobs=1)]: Done  25 out of  25 | elapsed:    1.3s finished\n",
      "\n",
      "[2021-03-11 23:35:16] Features: 16/40 -- score: 0.9266025641025643[Parallel(n_jobs=1)]: Using backend SequentialBackend with 1 concurrent workers.\n",
      "[Parallel(n_jobs=1)]: Done   1 out of   1 | elapsed:    0.1s remaining:    0.0s\n",
      "[Parallel(n_jobs=1)]: Done  24 out of  24 | elapsed:    1.3s finished\n",
      "\n",
      "[2021-03-11 23:35:17] Features: 17/40 -- score: 0.9266052574876105[Parallel(n_jobs=1)]: Using backend SequentialBackend with 1 concurrent workers.\n",
      "[Parallel(n_jobs=1)]: Done   1 out of   1 | elapsed:    0.1s remaining:    0.0s\n",
      "[Parallel(n_jobs=1)]: Done  23 out of  23 | elapsed:    1.3s finished\n",
      "\n",
      "[2021-03-11 23:35:19] Features: 18/40 -- score: 0.9324768368886016[Parallel(n_jobs=1)]: Using backend SequentialBackend with 1 concurrent workers.\n",
      "[Parallel(n_jobs=1)]: Done   1 out of   1 | elapsed:    0.1s remaining:    0.0s\n",
      "[Parallel(n_jobs=1)]: Done  22 out of  22 | elapsed:    1.3s finished\n",
      "\n",
      "[2021-03-11 23:35:20] Features: 19/40 -- score: 0.924396681749623[Parallel(n_jobs=1)]: Using backend SequentialBackend with 1 concurrent workers.\n",
      "[Parallel(n_jobs=1)]: Done   1 out of   1 | elapsed:    0.1s remaining:    0.0s\n",
      "[Parallel(n_jobs=1)]: Done  21 out of  21 | elapsed:    1.4s finished\n",
      "\n",
      "[2021-03-11 23:35:21] Features: 20/40 -- score: 0.9310008618832148[Parallel(n_jobs=1)]: Using backend SequentialBackend with 1 concurrent workers.\n",
      "[Parallel(n_jobs=1)]: Done   1 out of   1 | elapsed:    0.1s remaining:    0.0s\n",
      "[Parallel(n_jobs=1)]: Done  20 out of  20 | elapsed:    1.4s finished\n",
      "\n",
      "[2021-03-11 23:35:23] Features: 21/40 -- score: 0.9280704589528119[Parallel(n_jobs=1)]: Using backend SequentialBackend with 1 concurrent workers.\n",
      "[Parallel(n_jobs=1)]: Done   1 out of   1 | elapsed:    0.1s remaining:    0.0s\n",
      "[Parallel(n_jobs=1)]: Done  19 out of  19 | elapsed:    1.4s finished\n",
      "\n",
      "[2021-03-11 23:35:24] Features: 22/40 -- score: 0.9288030596854127[Parallel(n_jobs=1)]: Using backend SequentialBackend with 1 concurrent workers.\n",
      "[Parallel(n_jobs=1)]: Done   1 out of   1 | elapsed:    0.1s remaining:    0.0s\n",
      "[Parallel(n_jobs=1)]: Done  18 out of  18 | elapsed:    1.3s finished\n",
      "\n",
      "[2021-03-11 23:35:25] Features: 23/40 -- score: 0.9258645765998708[Parallel(n_jobs=1)]: Using backend SequentialBackend with 1 concurrent workers.\n",
      "[Parallel(n_jobs=1)]: Done   1 out of   1 | elapsed:    0.1s remaining:    0.0s\n",
      "[Parallel(n_jobs=1)]: Done  17 out of  17 | elapsed:    1.3s finished\n",
      "\n",
      "[2021-03-11 23:35:27] Features: 24/40 -- score: 0.9295356604180134[Parallel(n_jobs=1)]: Using backend SequentialBackend with 1 concurrent workers.\n",
      "[Parallel(n_jobs=1)]: Done   1 out of   1 | elapsed:    0.1s remaining:    0.0s\n",
      "[Parallel(n_jobs=1)]: Done  16 out of  16 | elapsed:    1.3s finished\n",
      "\n",
      "[2021-03-11 23:35:28] Features: 25/40 -- score: 0.9236586942469295[Parallel(n_jobs=1)]: Using backend SequentialBackend with 1 concurrent workers.\n",
      "[Parallel(n_jobs=1)]: Done   1 out of   1 | elapsed:    0.1s remaining:    0.0s\n",
      "[Parallel(n_jobs=1)]: Done  15 out of  15 | elapsed:    1.2s finished\n",
      "\n",
      "[2021-03-11 23:35:29] Features: 26/40 -- score: 0.9243886015944838[Parallel(n_jobs=1)]: Using backend SequentialBackend with 1 concurrent workers.\n",
      "[Parallel(n_jobs=1)]: Done   1 out of   1 | elapsed:    0.1s remaining:    0.0s\n",
      "[Parallel(n_jobs=1)]: Done  14 out of  14 | elapsed:    1.2s finished\n",
      "\n",
      "[2021-03-11 23:35:30] Features: 27/40 -- score: 0.920722904546434[Parallel(n_jobs=1)]: Using backend SequentialBackend with 1 concurrent workers.\n",
      "[Parallel(n_jobs=1)]: Done   1 out of   1 | elapsed:    0.1s remaining:    0.0s\n"
     ]
    },
    {
     "name": "stderr",
     "output_type": "stream",
     "text": [
      "[Parallel(n_jobs=1)]: Done  13 out of  13 | elapsed:    1.1s finished\n",
      "\n",
      "[2021-03-11 23:35:31] Features: 28/40 -- score: 0.9214555052790345[Parallel(n_jobs=1)]: Using backend SequentialBackend with 1 concurrent workers.\n",
      "[Parallel(n_jobs=1)]: Done   1 out of   1 | elapsed:    0.1s remaining:    0.0s\n",
      "[Parallel(n_jobs=1)]: Done  12 out of  12 | elapsed:    1.1s finished\n",
      "\n",
      "[2021-03-11 23:35:33] Features: 29/40 -- score: 0.9265944839474252[Parallel(n_jobs=1)]: Using backend SequentialBackend with 1 concurrent workers.\n",
      "[Parallel(n_jobs=1)]: Done   1 out of   1 | elapsed:    0.1s remaining:    0.0s\n",
      "[Parallel(n_jobs=1)]: Done  11 out of  11 | elapsed:    1.0s finished\n",
      "\n",
      "[2021-03-11 23:35:34] Features: 30/40 -- score: 0.9258699633699635[Parallel(n_jobs=1)]: Using backend SequentialBackend with 1 concurrent workers.\n",
      "[Parallel(n_jobs=1)]: Done   1 out of   1 | elapsed:    0.1s remaining:    0.0s\n",
      "[Parallel(n_jobs=1)]: Done  10 out of  10 | elapsed:    1.0s finished\n",
      "\n",
      "[2021-03-11 23:35:35] Features: 31/40 -- score: 0.918503555268261[Parallel(n_jobs=1)]: Using backend SequentialBackend with 1 concurrent workers.\n",
      "[Parallel(n_jobs=1)]: Done   1 out of   1 | elapsed:    0.1s remaining:    0.0s\n",
      "[Parallel(n_jobs=1)]: Done   9 out of   9 | elapsed:    0.9s finished\n",
      "\n",
      "[2021-03-11 23:35:35] Features: 32/40 -- score: 0.915562378797673[Parallel(n_jobs=1)]: Using backend SequentialBackend with 1 concurrent workers.\n",
      "[Parallel(n_jobs=1)]: Done   1 out of   1 | elapsed:    0.1s remaining:    0.0s\n",
      "[Parallel(n_jobs=1)]: Done   8 out of   8 | elapsed:    0.8s finished\n",
      "\n",
      "[2021-03-11 23:35:36] Features: 33/40 -- score: 0.9104449472096532[Parallel(n_jobs=1)]: Using backend SequentialBackend with 1 concurrent workers.\n",
      "[Parallel(n_jobs=1)]: Done   1 out of   1 | elapsed:    0.1s remaining:    0.0s\n",
      "[Parallel(n_jobs=1)]: Done   7 out of   7 | elapsed:    0.8s finished\n",
      "\n",
      "[2021-03-11 23:35:37] Features: 34/40 -- score: 0.908974358974359[Parallel(n_jobs=1)]: Using backend SequentialBackend with 1 concurrent workers.\n",
      "[Parallel(n_jobs=1)]: Done   1 out of   1 | elapsed:    0.1s remaining:    0.0s\n",
      "[Parallel(n_jobs=1)]: Done   6 out of   6 | elapsed:    0.7s finished\n",
      "\n",
      "[2021-03-11 23:35:38] Features: 35/40 -- score: 0.8972177332471449[Parallel(n_jobs=1)]: Using backend SequentialBackend with 1 concurrent workers.\n",
      "[Parallel(n_jobs=1)]: Done   1 out of   1 | elapsed:    0.1s remaining:    0.0s\n",
      "[Parallel(n_jobs=1)]: Done   5 out of   5 | elapsed:    0.6s finished\n",
      "\n",
      "[2021-03-11 23:35:38] Features: 36/40 -- score: 0.8796003016591252[Parallel(n_jobs=1)]: Using backend SequentialBackend with 1 concurrent workers.\n",
      "[Parallel(n_jobs=1)]: Done   1 out of   1 | elapsed:    0.1s remaining:    0.0s\n",
      "[Parallel(n_jobs=1)]: Done   4 out of   4 | elapsed:    0.5s finished\n",
      "\n",
      "[2021-03-11 23:35:39] Features: 37/40 -- score: 0.8759453781512606[Parallel(n_jobs=1)]: Using backend SequentialBackend with 1 concurrent workers.\n",
      "[Parallel(n_jobs=1)]: Done   1 out of   1 | elapsed:    0.1s remaining:    0.0s\n",
      "[Parallel(n_jobs=1)]: Done   3 out of   3 | elapsed:    0.4s finished\n",
      "\n",
      "[2021-03-11 23:35:39] Features: 38/40 -- score: 0.8773809523809524[Parallel(n_jobs=1)]: Using backend SequentialBackend with 1 concurrent workers.\n",
      "[Parallel(n_jobs=1)]: Done   1 out of   1 | elapsed:    0.1s remaining:    0.0s\n",
      "[Parallel(n_jobs=1)]: Done   2 out of   2 | elapsed:    0.3s finished\n",
      "\n",
      "[2021-03-11 23:35:39] Features: 39/40 -- score: 0.8781162464985994[Parallel(n_jobs=1)]: Using backend SequentialBackend with 1 concurrent workers.\n",
      "[Parallel(n_jobs=1)]: Done   1 out of   1 | elapsed:    0.1s remaining:    0.0s\n",
      "[Parallel(n_jobs=1)]: Done   1 out of   1 | elapsed:    0.1s finished\n",
      "\n",
      "[2021-03-11 23:35:40] Features: 40/40 -- score: 0.8700522516698987"
     ]
    }
   ],
   "source": [
    "clf_tree = tree.DecisionTreeClassifier()\n",
    "sfs_tree = sfs(clf_tree,\n",
    "           k_features=(1,x_train.shape[1]),\n",
    "           forward=True,\n",
    "           floating=False,\n",
    "           verbose=2,\n",
    "           scoring='accuracy',\n",
    "           cv=5)\n",
    "\n",
    "# Perform SFFS\n",
    "sfs_tree = sfs_tree.fit(x_train, y_train)"
   ]
  },
  {
   "cell_type": "code",
   "execution_count": 30,
   "metadata": {
    "colab": {
     "base_uri": "https://localhost:8080/"
    },
    "id": "_R4zWhSV7i1w",
    "outputId": "e919c14f-0e03-400c-f37d-ee4ac2e10bf7"
   },
   "outputs": [
    {
     "name": "stdout",
     "output_type": "stream",
     "text": [
      "Empty DataFrame\n",
      "Columns: [HE4(pg/ml), HGF(pg/ml), TGFa(pg/ml)]\n",
      "Index: []\n"
     ]
    }
   ],
   "source": [
    "feat_cols_tree = list(sfs_tree.k_feature_idx_) #list of selected best features for binary\n",
    "print(x_train[x_train.columns[feat_cols_tree]].head(0)) #print names of selected columns"
   ]
  },
  {
   "cell_type": "code",
   "execution_count": 31,
   "metadata": {
    "colab": {
     "base_uri": "https://localhost:8080/"
    },
    "id": "RdAH76Aq8N33",
    "outputId": "819beed4-84f0-48ae-b2bf-a06cda7a0f80"
   },
   "outputs": [
    {
     "name": "stdout",
     "output_type": "stream",
     "text": [
      "Testing accuracy on selected features: 0.936\n"
     ]
    }
   ],
   "source": [
    "clf_dec = tree.DecisionTreeClassifier()\n",
    "\n",
    "clf_dec.fit(x_train[x_train.columns[feat_cols_tree]], y_train)\n",
    "\n",
    "y_test_pred_dec = clf_dec.predict(x_test[x_test.columns[feat_cols_tree]])\n",
    "print('Testing accuracy on selected features: %.3f' % acc(y_test, y_test_pred_dec))"
   ]
  },
  {
   "cell_type": "code",
   "execution_count": 32,
   "metadata": {
    "colab": {
     "base_uri": "https://localhost:8080/",
     "height": 279
    },
    "id": "voSrc-KY9OQP",
    "outputId": "f289d8c5-2a84-4cfc-8f25-763cad14592b"
   },
   "outputs": [
    {
     "data": {
      "image/png": "[encoded data removed]",
      "text/plain": [
       "<Figure size 432x288 with 2 Axes>"
      ]
     },
     "metadata": {
      "needs_background": "light"
     },
     "output_type": "display_data"
    }
   ],
   "source": [
    "plot_confusion_matrix(clf_dec, x_test[x_test.columns[feat_cols_tree]], y_test)  \n",
    "plt.show() "
   ]
  },
  {
   "cell_type": "code",
   "execution_count": 33,
   "metadata": {
    "colab": {
     "base_uri": "https://localhost:8080/"
    },
    "id": "1EMMKiQ19Y_u",
    "outputId": "3d4a4c01-b769-4c95-a30a-4eb04b2eccdd"
   },
   "outputs": [
    {
     "name": "stdout",
     "output_type": "stream",
     "text": [
      "Sensitivity: 0.943089430894309\n",
      "Specificity: 0.9282296650717703\n",
      "Accuracy: 0.9362637362637363\n"
     ]
    }
   ],
   "source": [
    "sensitivity, specificity, accuracy = calculate_sensitivity_specificity(y_test, y_test_pred_dec)\n",
    "print ('Sensitivity:', sensitivity)\n",
    "print ('Specificity:', specificity)\n",
    "print ('Accuracy:', accuracy)"
   ]
  },
  {
   "cell_type": "markdown",
   "metadata": {
    "id": "sVhxLQz1-Mv5"
   },
   "source": [
    "## Logistic Regression"
   ]
  },
  {
   "cell_type": "code",
   "execution_count": 34,
   "metadata": {
    "colab": {
     "base_uri": "https://localhost:8080/"
    },
    "id": "oJlNXG7N9yrO",
    "outputId": "e58edad8-0ae2-490e-c3f0-d0037fb2611e"
   },
   "outputs": [
    {
     "name": "stderr",
     "output_type": "stream",
     "text": [
      "[Parallel(n_jobs=1)]: Using backend SequentialBackend with 1 concurrent workers.\n",
      "[Parallel(n_jobs=1)]: Done   1 out of   1 | elapsed:    0.0s remaining:    0.0s\n",
      "[Parallel(n_jobs=1)]: Done  40 out of  40 | elapsed:    0.9s finished\n",
      "\n",
      "[2021-03-11 23:35:41] Features: 1/40 -- score: 0.7599008834302952[Parallel(n_jobs=1)]: Using backend SequentialBackend with 1 concurrent workers.\n",
      "[Parallel(n_jobs=1)]: Done   1 out of   1 | elapsed:    0.0s remaining:    0.0s\n",
      "[Parallel(n_jobs=1)]: Done  39 out of  39 | elapsed:    1.1s finished\n",
      "\n",
      "[2021-03-11 23:35:42] Features: 2/40 -- score: 0.8002908855850034[Parallel(n_jobs=1)]: Using backend SequentialBackend with 1 concurrent workers.\n",
      "[Parallel(n_jobs=1)]: Done   1 out of   1 | elapsed:    0.0s remaining:    0.0s\n",
      "[Parallel(n_jobs=1)]: Done  38 out of  38 | elapsed:    1.1s finished\n",
      "\n",
      "[2021-03-11 23:35:43] Features: 3/40 -- score: 0.8149752208575738[Parallel(n_jobs=1)]: Using backend SequentialBackend with 1 concurrent workers.\n",
      "[Parallel(n_jobs=1)]: Done   1 out of   1 | elapsed:    0.0s remaining:    0.0s\n",
      "[Parallel(n_jobs=1)]: Done  37 out of  37 | elapsed:    1.2s finished\n",
      "\n",
      "[2021-03-11 23:35:44] Features: 4/40 -- score: 0.8318762120232709[Parallel(n_jobs=1)]: Using backend SequentialBackend with 1 concurrent workers.\n",
      "[Parallel(n_jobs=1)]: Done   1 out of   1 | elapsed:    0.0s remaining:    0.0s\n",
      "[Parallel(n_jobs=1)]: Done  36 out of  36 | elapsed:    1.3s finished\n",
      "\n",
      "[2021-03-11 23:35:45] Features: 5/40 -- score: 0.8392049127343245[Parallel(n_jobs=1)]: Using backend SequentialBackend with 1 concurrent workers.\n",
      "[Parallel(n_jobs=1)]: Done   1 out of   1 | elapsed:    0.0s remaining:    0.0s\n",
      "[Parallel(n_jobs=1)]: Done  35 out of  35 | elapsed:    1.3s finished\n",
      "\n",
      "[2021-03-11 23:35:47] Features: 6/40 -- score: 0.8472877612583496[Parallel(n_jobs=1)]: Using backend SequentialBackend with 1 concurrent workers.\n",
      "[Parallel(n_jobs=1)]: Done   1 out of   1 | elapsed:    0.0s remaining:    0.0s\n",
      "[Parallel(n_jobs=1)]: Done  34 out of  34 | elapsed:    1.4s finished\n",
      "\n",
      "[2021-03-11 23:35:48] Features: 7/40 -- score: 0.8531431803490628[Parallel(n_jobs=1)]: Using backend SequentialBackend with 1 concurrent workers.\n",
      "[Parallel(n_jobs=1)]: Done   1 out of   1 | elapsed:    0.0s remaining:    0.0s\n",
      "[Parallel(n_jobs=1)]: Done  33 out of  33 | elapsed:    1.3s finished\n",
      "\n",
      "[2021-03-11 23:35:49] Features: 8/40 -- score: 0.8568250377073907[Parallel(n_jobs=1)]: Using backend SequentialBackend with 1 concurrent workers.\n",
      "[Parallel(n_jobs=1)]: Done   1 out of   1 | elapsed:    0.1s remaining:    0.0s\n",
      "[Parallel(n_jobs=1)]: Done  32 out of  32 | elapsed:    1.5s finished\n",
      "\n",
      "[2021-03-11 23:35:51] Features: 9/40 -- score: 0.8582983193277312[Parallel(n_jobs=1)]: Using backend SequentialBackend with 1 concurrent workers.\n",
      "[Parallel(n_jobs=1)]: Done   1 out of   1 | elapsed:    0.1s remaining:    0.0s\n",
      "[Parallel(n_jobs=1)]: Done  31 out of  31 | elapsed:    1.6s finished\n",
      "\n",
      "[2021-03-11 23:35:53] Features: 10/40 -- score: 0.8619694031458739[Parallel(n_jobs=1)]: Using backend SequentialBackend with 1 concurrent workers.\n",
      "[Parallel(n_jobs=1)]: Done   1 out of   1 | elapsed:    0.1s remaining:    0.0s\n",
      "[Parallel(n_jobs=1)]: Done  30 out of  30 | elapsed:    1.6s finished\n",
      "\n",
      "[2021-03-11 23:35:54] Features: 11/40 -- score: 0.862704697263521[Parallel(n_jobs=1)]: Using backend SequentialBackend with 1 concurrent workers.\n",
      "[Parallel(n_jobs=1)]: Done   1 out of   1 | elapsed:    0.1s remaining:    0.0s\n",
      "[Parallel(n_jobs=1)]: Done  29 out of  29 | elapsed:    1.7s finished\n",
      "\n",
      "[2021-03-11 23:35:56] Features: 12/40 -- score: 0.862704697263521[Parallel(n_jobs=1)]: Using backend SequentialBackend with 1 concurrent workers.\n",
      "[Parallel(n_jobs=1)]: Done   1 out of   1 | elapsed:    0.1s remaining:    0.0s\n",
      "[Parallel(n_jobs=1)]: Done  28 out of  28 | elapsed:    1.6s finished\n",
      "\n",
      "[2021-03-11 23:35:57] Features: 13/40 -- score: 0.8641645119586296[Parallel(n_jobs=1)]: Using backend SequentialBackend with 1 concurrent workers.\n",
      "[Parallel(n_jobs=1)]: Done   1 out of   1 | elapsed:    0.1s remaining:    0.0s\n",
      "[Parallel(n_jobs=1)]: Done  27 out of  27 | elapsed:    1.8s finished\n",
      "\n",
      "[2021-03-11 23:35:59] Features: 14/40 -- score: 0.8671029950441715[Parallel(n_jobs=1)]: Using backend SequentialBackend with 1 concurrent workers.\n",
      "[Parallel(n_jobs=1)]: Done   1 out of   1 | elapsed:    0.2s remaining:    0.0s\n",
      "[Parallel(n_jobs=1)]: Done  26 out of  26 | elapsed:    2.2s finished\n",
      "\n",
      "[2021-03-11 23:36:01] Features: 15/40 -- score: 0.8663703943115708[Parallel(n_jobs=1)]: Using backend SequentialBackend with 1 concurrent workers.\n",
      "[Parallel(n_jobs=1)]: Done   1 out of   1 | elapsed:    0.1s remaining:    0.0s\n",
      "[Parallel(n_jobs=1)]: Done  25 out of  25 | elapsed:    1.5s finished\n",
      "\n",
      "[2021-03-11 23:36:03] Features: 16/40 -- score: 0.8656377935789701[Parallel(n_jobs=1)]: Using backend SequentialBackend with 1 concurrent workers.\n",
      "[Parallel(n_jobs=1)]: Done   1 out of   1 | elapsed:    0.1s remaining:    0.0s\n",
      "[Parallel(n_jobs=1)]: Done  24 out of  24 | elapsed:    1.5s finished\n",
      "\n",
      "[2021-03-11 23:36:04] Features: 17/40 -- score: 0.8656404869640164[Parallel(n_jobs=1)]: Using backend SequentialBackend with 1 concurrent workers.\n",
      "[Parallel(n_jobs=1)]: Done   1 out of   1 | elapsed:    0.1s remaining:    0.0s\n",
      "[Parallel(n_jobs=1)]: Done  23 out of  23 | elapsed:    1.4s finished\n",
      "\n",
      "[2021-03-11 23:36:06] Features: 18/40 -- score: 0.8649051928463694[Parallel(n_jobs=1)]: Using backend SequentialBackend with 1 concurrent workers.\n",
      "[Parallel(n_jobs=1)]: Done   1 out of   1 | elapsed:    0.1s remaining:    0.0s\n",
      "[Parallel(n_jobs=1)]: Done  22 out of  22 | elapsed:    1.4s finished\n",
      "\n",
      "[2021-03-11 23:36:07] Features: 19/40 -- score: 0.864902499461323[Parallel(n_jobs=1)]: Using backend SequentialBackend with 1 concurrent workers.\n",
      "[Parallel(n_jobs=1)]: Done   1 out of   1 | elapsed:    0.1s remaining:    0.0s\n",
      "[Parallel(n_jobs=1)]: Done  21 out of  21 | elapsed:    1.5s finished\n",
      "\n",
      "[2021-03-11 23:36:09] Features: 20/40 -- score: 0.8649078862314157[Parallel(n_jobs=1)]: Using backend SequentialBackend with 1 concurrent workers.\n",
      "[Parallel(n_jobs=1)]: Done   1 out of   1 | elapsed:    0.1s remaining:    0.0s\n",
      "[Parallel(n_jobs=1)]: Done  20 out of  20 | elapsed:    1.4s finished\n",
      "\n",
      "[2021-03-11 23:36:10] Features: 21/40 -- score: 0.8649078862314157[Parallel(n_jobs=1)]: Using backend SequentialBackend with 1 concurrent workers.\n",
      "[Parallel(n_jobs=1)]: Done   1 out of   1 | elapsed:    0.1s remaining:    0.0s\n",
      "[Parallel(n_jobs=1)]: Done  19 out of  19 | elapsed:    1.3s finished\n",
      "\n",
      "[2021-03-11 23:36:11] Features: 22/40 -- score: 0.8649051928463696[Parallel(n_jobs=1)]: Using backend SequentialBackend with 1 concurrent workers.\n",
      "[Parallel(n_jobs=1)]: Done   1 out of   1 | elapsed:    0.1s remaining:    0.0s\n",
      "[Parallel(n_jobs=1)]: Done  18 out of  18 | elapsed:    1.2s finished\n",
      "\n",
      "[2021-03-11 23:36:12] Features: 23/40 -- score: 0.8685789700495583[Parallel(n_jobs=1)]: Using backend SequentialBackend with 1 concurrent workers.\n",
      "[Parallel(n_jobs=1)]: Done   1 out of   1 | elapsed:    0.1s remaining:    0.0s\n",
      "[Parallel(n_jobs=1)]: Done  17 out of  17 | elapsed:    1.3s finished\n",
      "\n",
      "[2021-03-11 23:36:14] Features: 24/40 -- score: 0.8678463693169576[Parallel(n_jobs=1)]: Using backend SequentialBackend with 1 concurrent workers.\n",
      "[Parallel(n_jobs=1)]: Done   1 out of   1 | elapsed:    0.1s remaining:    0.0s\n",
      "[Parallel(n_jobs=1)]: Done  16 out of  16 | elapsed:    1.3s finished\n",
      "\n",
      "[2021-03-11 23:36:15] Features: 25/40 -- score: 0.8678436759319113[Parallel(n_jobs=1)]: Using backend SequentialBackend with 1 concurrent workers.\n",
      "[Parallel(n_jobs=1)]: Done   1 out of   1 | elapsed:    0.1s remaining:    0.0s\n",
      "[Parallel(n_jobs=1)]: Done  15 out of  15 | elapsed:    1.4s finished\n",
      "\n",
      "[2021-03-11 23:36:16] Features: 26/40 -- score: 0.870782159017453[Parallel(n_jobs=1)]: Using backend SequentialBackend with 1 concurrent workers.\n",
      "[Parallel(n_jobs=1)]: Done   1 out of   1 | elapsed:    0.1s remaining:    0.0s\n",
      "[Parallel(n_jobs=1)]: Done  14 out of  14 | elapsed:    1.2s finished\n",
      "\n",
      "[2021-03-11 23:36:18] Features: 27/40 -- score: 0.8685816634346045[Parallel(n_jobs=1)]: Using backend SequentialBackend with 1 concurrent workers.\n",
      "[Parallel(n_jobs=1)]: Done   1 out of   1 | elapsed:    0.1s remaining:    0.0s\n"
     ]
    },
    {
     "name": "stderr",
     "output_type": "stream",
     "text": [
      "[Parallel(n_jobs=1)]: Done  13 out of  13 | elapsed:    1.4s finished\n",
      "\n",
      "[2021-03-11 23:36:19] Features: 28/40 -- score: 0.8671110751993105[Parallel(n_jobs=1)]: Using backend SequentialBackend with 1 concurrent workers.\n",
      "[Parallel(n_jobs=1)]: Done   1 out of   1 | elapsed:    0.1s remaining:    0.0s\n",
      "[Parallel(n_jobs=1)]: Done  12 out of  12 | elapsed:    1.3s finished\n",
      "\n",
      "[2021-03-11 23:36:20] Features: 29/40 -- score: 0.8671003016591252[Parallel(n_jobs=1)]: Using backend SequentialBackend with 1 concurrent workers.\n",
      "[Parallel(n_jobs=1)]: Done   1 out of   1 | elapsed:    0.1s remaining:    0.0s\n",
      "[Parallel(n_jobs=1)]: Done  11 out of  11 | elapsed:    0.9s finished\n",
      "\n",
      "[2021-03-11 23:36:21] Features: 30/40 -- score: 0.8693034906270201[Parallel(n_jobs=1)]: Using backend SequentialBackend with 1 concurrent workers.\n",
      "[Parallel(n_jobs=1)]: Done   1 out of   1 | elapsed:    0.1s remaining:    0.0s\n",
      "[Parallel(n_jobs=1)]: Done  10 out of  10 | elapsed:    0.9s finished\n",
      "\n",
      "[2021-03-11 23:36:22] Features: 31/40 -- score: 0.8671083818142643[Parallel(n_jobs=1)]: Using backend SequentialBackend with 1 concurrent workers.\n",
      "[Parallel(n_jobs=1)]: Done   1 out of   1 | elapsed:    0.1s remaining:    0.0s\n",
      "[Parallel(n_jobs=1)]: Done   9 out of   9 | elapsed:    0.8s finished\n",
      "\n",
      "[2021-03-11 23:36:23] Features: 32/40 -- score: 0.8671164619694032[Parallel(n_jobs=1)]: Using backend SequentialBackend with 1 concurrent workers.\n",
      "[Parallel(n_jobs=1)]: Done   1 out of   1 | elapsed:    0.1s remaining:    0.0s\n",
      "[Parallel(n_jobs=1)]: Done   8 out of   8 | elapsed:    0.6s finished\n",
      "\n",
      "[2021-03-11 23:36:24] Features: 33/40 -- score: 0.8707929325576383[Parallel(n_jobs=1)]: Using backend SequentialBackend with 1 concurrent workers.\n",
      "[Parallel(n_jobs=1)]: Done   1 out of   1 | elapsed:    0.1s remaining:    0.0s\n",
      "[Parallel(n_jobs=1)]: Done   7 out of   7 | elapsed:    0.5s finished\n",
      "\n",
      "[2021-03-11 23:36:24] Features: 34/40 -- score: 0.8693304244774833[Parallel(n_jobs=1)]: Using backend SequentialBackend with 1 concurrent workers.\n",
      "[Parallel(n_jobs=1)]: Done   1 out of   1 | elapsed:    0.1s remaining:    0.0s\n",
      "[Parallel(n_jobs=1)]: Done   6 out of   6 | elapsed:    0.5s finished\n",
      "\n",
      "[2021-03-11 23:36:25] Features: 35/40 -- score: 0.8693223443223443[Parallel(n_jobs=1)]: Using backend SequentialBackend with 1 concurrent workers.\n",
      "[Parallel(n_jobs=1)]: Done   1 out of   1 | elapsed:    0.1s remaining:    0.0s\n",
      "[Parallel(n_jobs=1)]: Done   5 out of   5 | elapsed:    0.4s finished\n",
      "\n",
      "[2021-03-11 23:36:25] Features: 36/40 -- score: 0.8707929325576383[Parallel(n_jobs=1)]: Using backend SequentialBackend with 1 concurrent workers.\n",
      "[Parallel(n_jobs=1)]: Done   1 out of   1 | elapsed:    0.1s remaining:    0.0s\n",
      "[Parallel(n_jobs=1)]: Done   4 out of   4 | elapsed:    0.3s finished\n",
      "\n",
      "[2021-03-11 23:36:25] Features: 37/40 -- score: 0.872993428140487[Parallel(n_jobs=1)]: Using backend SequentialBackend with 1 concurrent workers.\n",
      "[Parallel(n_jobs=1)]: Done   1 out of   1 | elapsed:    0.1s remaining:    0.0s\n",
      "[Parallel(n_jobs=1)]: Done   3 out of   3 | elapsed:    0.2s finished\n",
      "\n",
      "[2021-03-11 23:36:26] Features: 38/40 -- score: 0.8729961215255333[Parallel(n_jobs=1)]: Using backend SequentialBackend with 1 concurrent workers.\n",
      "[Parallel(n_jobs=1)]: Done   1 out of   1 | elapsed:    0.1s remaining:    0.0s\n",
      "[Parallel(n_jobs=1)]: Done   2 out of   2 | elapsed:    0.2s finished\n",
      "\n",
      "[2021-03-11 23:36:26] Features: 39/40 -- score: 0.8715309200603321[Parallel(n_jobs=1)]: Using backend SequentialBackend with 1 concurrent workers.\n",
      "[Parallel(n_jobs=1)]: Done   1 out of   1 | elapsed:    0.1s remaining:    0.0s\n",
      "[Parallel(n_jobs=1)]: Done   1 out of   1 | elapsed:    0.1s finished\n",
      "\n",
      "[2021-03-11 23:36:26] Features: 40/40 -- score: 0.8693250377073907"
     ]
    }
   ],
   "source": [
    "sfs_linear = sfs(LogisticRegression(solver='lbfgs',random_state=42),\n",
    "           k_features=(1,x_train.shape[1]),\n",
    "           forward=True,\n",
    "           floating=False,\n",
    "           verbose=2,\n",
    "           scoring='accuracy',\n",
    "           cv=5)\n",
    "\n",
    "# Perform SFFS\n",
    "sfs_linear = sfs_linear.fit(x_train, y_train)"
   ]
  },
  {
   "cell_type": "code",
   "execution_count": 35,
   "metadata": {
    "colab": {
     "base_uri": "https://localhost:8080/",
     "height": 103
    },
    "id": "OgMTBzv_-YWc",
    "outputId": "a29afa08-8156-49ab-9ff8-c99acc37a3ae"
   },
   "outputs": [
    {
     "data": {
      "text/html": [
       "<div>\n",
       "<style scoped>\n",
       "    .dataframe tbody tr th:only-of-type {\n",
       "        vertical-align: middle;\n",
       "    }\n",
       "\n",
       "    .dataframe tbody tr th {\n",
       "        vertical-align: top;\n",
       "    }\n",
       "\n",
       "    .dataframe thead th {\n",
       "        text-align: right;\n",
       "    }\n",
       "</style>\n",
       "<table border=\"1\" class=\"dataframe\">\n",
       "  <thead>\n",
       "    <tr style=\"text-align: right;\">\n",
       "      <th></th>\n",
       "      <th>Ω score</th>\n",
       "      <th>AFP(pg/ml)</th>\n",
       "      <th>Angiopoietin-2(pg/ml)</th>\n",
       "      <th>AXL(pg/ml)</th>\n",
       "      <th>CA-125(U/ml)</th>\n",
       "      <th>CA-15-3(U/ml)</th>\n",
       "      <th>CA19-9(U/ml)</th>\n",
       "      <th>CD44(ng/ml)</th>\n",
       "      <th>CEA(pg/ml)</th>\n",
       "      <th>CYFRA-21-1(pg/ml)</th>\n",
       "      <th>...</th>\n",
       "      <th>Prolactin(pg/ml)</th>\n",
       "      <th>sEGFR(pg/ml)</th>\n",
       "      <th>sFas(pg/ml)</th>\n",
       "      <th>SHBG(nM)</th>\n",
       "      <th>sHER2/sEGFR2/sErbB2(pg/ml)</th>\n",
       "      <th>sPECAM-1(pg/ml)</th>\n",
       "      <th>TGFa(pg/ml)</th>\n",
       "      <th>Thrombospondin-2(pg/ml)</th>\n",
       "      <th>TIMP-1(pg/ml)</th>\n",
       "      <th>TIMP-2(pg/ml)</th>\n",
       "    </tr>\n",
       "  </thead>\n",
       "  <tbody>\n",
       "  </tbody>\n",
       "</table>\n",
       "<p>0 rows × 38 columns</p>\n",
       "</div>"
      ],
      "text/plain": [
       "Empty DataFrame\n",
       "Columns: [Ω score, AFP(pg/ml), Angiopoietin-2(pg/ml), AXL(pg/ml), CA-125(U/ml), CA-15-3(U/ml), CA19-9(U/ml), CD44(ng/ml), CEA(pg/ml), CYFRA-21-1(pg/ml), DKK1(ng/ml), Endoglin(pg/ml), FGF2(pg/ml), Follistatin(pg/ml), Galectin-3(ng/ml), G-CSF(pg/ml), GDF15(ng/ml), HE4(pg/ml), HGF(pg/ml), IL-6(pg/ml), Kallikrein-6(pg/ml), Leptin(pg/ml), Mesothelin(ng/ml), Midkine(pg/ml), Myeloperoxidase(ng/ml), OPG(ng/ml), OPN(pg/ml), PAR(pg/ml), Prolactin(pg/ml), sEGFR(pg/ml), sFas(pg/ml), SHBG(nM), sHER2/sEGFR2/sErbB2(pg/ml), sPECAM-1(pg/ml), TGFa(pg/ml), Thrombospondin-2(pg/ml), TIMP-1(pg/ml), TIMP-2(pg/ml)]\n",
       "Index: []\n",
       "\n",
       "[0 rows x 38 columns]"
      ]
     },
     "execution_count": 35,
     "metadata": {},
     "output_type": "execute_result"
    }
   ],
   "source": [
    "sfs_linear_cols = list(sfs_linear.k_feature_idx_)\n",
    "x_train[x_train.columns[sfs_linear_cols]].head(0)"
   ]
  },
  {
   "cell_type": "code",
   "execution_count": 36,
   "metadata": {
    "colab": {
     "base_uri": "https://localhost:8080/"
    },
    "id": "1nB_WZs2-b7A",
    "outputId": "4fa2bfa2-5015-4497-a141-83891cddfc58"
   },
   "outputs": [
    {
     "name": "stdout",
     "output_type": "stream",
     "text": [
      "Testing accuracy on selected features: 0.862\n"
     ]
    }
   ],
   "source": [
    "clf_random = LogisticRegression(solver='lbfgs',random_state=42)\n",
    "\n",
    "clf_random.fit(x_train[x_train.columns[sfs_linear_cols]], y_train)\n",
    "\n",
    "# y_train_pred = clf.predict(x_train[x_train.columns[feat_cols]])\n",
    "# print('Training accuracy on selected features: %.3f' % acc(y_train, y_train_pred))\n",
    "\n",
    "y_test_pred = clf_random.predict(x_test[x_test.columns[sfs_linear_cols]])\n",
    "print('Testing accuracy on selected features: %.3f' % acc(y_test, y_test_pred))"
   ]
  },
  {
   "cell_type": "code",
   "execution_count": 37,
   "metadata": {
    "colab": {
     "base_uri": "https://localhost:8080/",
     "height": 279
    },
    "id": "VbHa8eKT-eaf",
    "outputId": "2dd82b2f-8bdb-451d-acdb-65d7f3a86487"
   },
   "outputs": [
    {
     "data": {
      "image/png": "[encoded data removed]",
      "text/plain": [
       "<Figure size 432x288 with 2 Axes>"
      ]
     },
     "metadata": {
      "needs_background": "light"
     },
     "output_type": "display_data"
    }
   ],
   "source": [
    "clf_random.fit(x_train[x_train.columns[sfs_linear_cols]], y_train)\n",
    "\n",
    "plot_confusion_matrix(clf_random, x_test[x_test.columns[sfs_linear_cols]], y_test)  \n",
    "plt.show() "
   ]
  },
  {
   "cell_type": "code",
   "execution_count": 38,
   "metadata": {
    "colab": {
     "base_uri": "https://localhost:8080/"
    },
    "id": "svNqfIfe-hpu",
    "outputId": "90d0ba5c-8f54-4c39-9901-299c810a880e"
   },
   "outputs": [
    {
     "name": "stdout",
     "output_type": "stream",
     "text": [
      "Sensitivity: 0.8252032520325203\n",
      "Specificity: 0.9043062200956937\n",
      "Accuracy: 0.8615384615384616\n"
     ]
    }
   ],
   "source": [
    "sensitivity, specificity, accuracy = calculate_sensitivity_specificity(y_test, y_test_pred)\n",
    "print ('Sensitivity:', sensitivity)\n",
    "print ('Specificity:', specificity)\n",
    "print ('Accuracy:', accuracy)"
   ]
  },
  {
   "cell_type": "markdown",
   "metadata": {},
   "source": [
    "## Deep Learning"
   ]
  },
  {
   "cell_type": "code",
   "execution_count": 39,
   "metadata": {
    "colab": {
     "base_uri": "https://localhost:8080/"
    },
    "id": "jtR-A0fH-zeE",
    "outputId": "829c4d67-fc77-4449-d4ba-935da1247dcd"
   },
   "outputs": [
    {
     "data": {
      "text/plain": [
       "array([1, 1, 1, ..., 1, 1, 1])"
      ]
     },
     "execution_count": 39,
     "metadata": {},
     "output_type": "execute_result"
    }
   ],
   "source": [
    "from sklearn.preprocessing import LabelEncoder\n",
    "encoder = LabelEncoder()\n",
    "encoder.fit(y)\n",
    "encoded_Y = encoder.transform(y)\n",
    "encoded_Y\n"
   ]
  },
  {
   "cell_type": "code",
   "execution_count": 40,
   "metadata": {
    "id": "mckoQlTS-6K1"
   },
   "outputs": [],
   "source": [
    "\n",
    "from sklearn.model_selection import train_test_split\n",
    "X_train_d, X_test_d, y_train_d, y_test_d = train_test_split(new_x, encoded_Y, test_size=0.3)\n"
   ]
  },
  {
   "cell_type": "markdown",
   "metadata": {
    "id": "AQJL_Nxb-2Of"
   },
   "source": [
    "\n",
    "#### We now split the input features and target variables into training dataset and test dataset. our test dataset will be 30% of our entire dataset.\n"
   ]
  },
  {
   "cell_type": "markdown",
   "metadata": {
    "id": "2a4iaRT7_AAo"
   },
   "source": [
    "#### Neural network\n",
    "We are using keras to build our neural network. We import the keras library to create the neural network layers.\n",
    "There are two main types of models available in keras — Sequential and Model. we will use Sequential model to build our neural network.\n",
    "We use Dense library to build input, hidden and output layers of a neural network.\n",
    "\n",
    "What is Keras?\n",
    "1. Keras is a high-level neural network API which is written in Python.\n",
    "2. It is capable of running on top of Tensorflow, CNTK, or Theano.\n",
    "3. Keras can be used as a deep learning library. Support Convolutional and Recurrent Neural Networks\n",
    "4. Prototyping with Keras is fast and easy\n",
    "5. Runs seamlessly on CPU and GPU\n",
    "\n",
    "relu: Rectified Linear Activation"
   ]
  },
  {
   "cell_type": "code",
   "execution_count": 41,
   "metadata": {
    "id": "R7Ppewbj---b"
   },
   "outputs": [],
   "source": [
    "classifier = Sequential()\n",
    "#First Hidden Layer\n",
    "classifier.add(Dense(4, activation='relu', kernel_initializer='random_normal', input_dim=40))\n",
    "#Second  Hidden Layer\n",
    "classifier.add(Dense(4, activation='relu', kernel_initializer='random_normal'))\n",
    "# Third hidden layer\n",
    "classifier.add(Dense(4, activation='relu', kernel_initializer='random_normal'))\n",
    "#Output Layer\n",
    "classifier.add(Dense(1, activation='sigmoid', kernel_initializer='random_normal'))"
   ]
  },
  {
   "cell_type": "markdown",
   "metadata": {
    "id": "Kqy-Hv_W_ItZ"
   },
   "source": []
  },
  {
   "cell_type": "markdown",
   "metadata": {
    "id": "0F1hHD7p_Ix8"
   },
   "source": [
    "#### ReLu will be the activation function for hidden layers. As this is a binary classification problem we will use sigmoid as the activation function.\n"
   ]
  },
  {
   "cell_type": "code",
   "execution_count": 42,
   "metadata": {
    "id": "PvHx6Ylw_EcA"
   },
   "outputs": [],
   "source": [
    "#Compiling the neural network\n",
    "classifier.compile(optimizer ='adam',loss='binary_crossentropy', metrics =['accuracy'])"
   ]
  },
  {
   "cell_type": "markdown",
   "metadata": {
    "id": "suJP5TlW_P49"
   },
   "source": [
    "1. As this is a binary classification problem, we use binary_crossentropy to calculate the loss function between the actual output and the predicted output.\n",
    "2. To optimize our neural network we use Adam. Adam stands for Adaptive moment estimation.\n",
    "3. Momentum takes the past gradients into account in order to smooth out the gradient descent.\n",
    "4. we use accuracy as the metrics to measure the performance of the model\n",
    "\n",
    "we now fit out training data to the model we created. we use a batch_size of 10. This implies that we use 10 samples per gradient update.\n",
    "We iterate over 100 epochs to train the model. An epoch is an iteration over the entire data set.\n",
    "\n",
    "#### With all Protein biomarkers \n"
   ]
  },
  {
   "cell_type": "code",
   "execution_count": 43,
   "metadata": {
    "colab": {
     "base_uri": "https://localhost:8080/",
     "height": 232
    },
    "id": "GqwFP1si_MVY",
    "outputId": "92e63e6c-fa28-4a45-b02e-ba6baad37f15"
   },
   "outputs": [
    {
     "name": "stdout",
     "output_type": "stream",
     "text": [
      "Epoch 1/100\n",
      "128/128 [==============================] - 0s 622us/step - loss: 0.6909 - accuracy: 0.5531\n",
      "Epoch 2/100\n",
      "128/128 [==============================] - 0s 572us/step - loss: 0.6333 - accuracy: 0.5547\n",
      "Epoch 3/100\n",
      "128/128 [==============================] - 0s 573us/step - loss: 0.5208 - accuracy: 0.6042\n",
      "Epoch 4/100\n",
      "128/128 [==============================] - 0s 563us/step - loss: 0.4729 - accuracy: 0.8434\n",
      "Epoch 5/100\n",
      "128/128 [==============================] - 0s 573us/step - loss: 0.4458 - accuracy: 0.8631\n",
      "Epoch 6/100\n",
      "128/128 [==============================] - 0s 572us/step - loss: 0.4250 - accuracy: 0.8647\n",
      "Epoch 7/100\n",
      "128/128 [==============================] - 0s 593us/step - loss: 0.4067 - accuracy: 0.8725\n",
      "Epoch 8/100\n",
      "128/128 [==============================] - 0s 602us/step - loss: 0.3899 - accuracy: 0.8733\n",
      "Epoch 9/100\n",
      "128/128 [==============================] - 0s 560us/step - loss: 0.3747 - accuracy: 0.8757\n",
      "Epoch 10/100\n",
      "128/128 [==============================] - 0s 545us/step - loss: 0.3614 - accuracy: 0.8804\n",
      "Epoch 11/100\n",
      "128/128 [==============================] - 0s 555us/step - loss: 0.3495 - accuracy: 0.8836\n",
      "Epoch 12/100\n",
      "128/128 [==============================] - 0s 559us/step - loss: 0.3386 - accuracy: 0.8851\n",
      "Epoch 13/100\n",
      "128/128 [==============================] - 0s 547us/step - loss: 0.3281 - accuracy: 0.8875\n",
      "Epoch 14/100\n",
      "128/128 [==============================] - 0s 550us/step - loss: 0.3185 - accuracy: 0.8914\n",
      "Epoch 15/100\n",
      "128/128 [==============================] - 0s 590us/step - loss: 0.3097 - accuracy: 0.8906\n",
      "Epoch 16/100\n",
      "128/128 [==============================] - 0s 554us/step - loss: 0.3003 - accuracy: 0.8993\n",
      "Epoch 17/100\n",
      "128/128 [==============================] - 0s 553us/step - loss: 0.2930 - accuracy: 0.8993\n",
      "Epoch 18/100\n",
      "128/128 [==============================] - 0s 582us/step - loss: 0.2851 - accuracy: 0.9009\n",
      "Epoch 19/100\n",
      "128/128 [==============================] - 0s 548us/step - loss: 0.2784 - accuracy: 0.8993\n",
      "Epoch 20/100\n",
      "128/128 [==============================] - 0s 553us/step - loss: 0.2717 - accuracy: 0.9040\n",
      "Epoch 21/100\n",
      "128/128 [==============================] - 0s 552us/step - loss: 0.2661 - accuracy: 0.9009\n",
      "Epoch 22/100\n",
      "128/128 [==============================] - 0s 566us/step - loss: 0.2590 - accuracy: 0.9111\n",
      "Epoch 23/100\n",
      "128/128 [==============================] - 0s 548us/step - loss: 0.2540 - accuracy: 0.9095\n",
      "Epoch 24/100\n",
      "128/128 [==============================] - 0s 544us/step - loss: 0.2467 - accuracy: 0.9150\n",
      "Epoch 25/100\n",
      "128/128 [==============================] - 0s 561us/step - loss: 0.2411 - accuracy: 0.9166\n",
      "Epoch 26/100\n",
      "128/128 [==============================] - 0s 558us/step - loss: 0.2363 - accuracy: 0.9197\n",
      "Epoch 27/100\n",
      "128/128 [==============================] - 0s 559us/step - loss: 0.2331 - accuracy: 0.9253\n",
      "Epoch 28/100\n",
      "128/128 [==============================] - 0s 556us/step - loss: 0.2283 - accuracy: 0.9197\n",
      "Epoch 29/100\n",
      "128/128 [==============================] - 0s 546us/step - loss: 0.2245 - accuracy: 0.9245\n",
      "Epoch 30/100\n",
      "128/128 [==============================] - 0s 548us/step - loss: 0.2232 - accuracy: 0.9221\n",
      "Epoch 31/100\n",
      "128/128 [==============================] - 0s 546us/step - loss: 0.2178 - accuracy: 0.9276\n",
      "Epoch 32/100\n",
      "128/128 [==============================] - 0s 552us/step - loss: 0.2140 - accuracy: 0.9300\n",
      "Epoch 33/100\n",
      "128/128 [==============================] - 0s 552us/step - loss: 0.2104 - accuracy: 0.9276\n",
      "Epoch 34/100\n",
      "128/128 [==============================] - 0s 555us/step - loss: 0.2087 - accuracy: 0.9268\n",
      "Epoch 35/100\n",
      "128/128 [==============================] - 0s 584us/step - loss: 0.2053 - accuracy: 0.9284\n",
      "Epoch 36/100\n",
      "128/128 [==============================] - 0s 550us/step - loss: 0.2026 - accuracy: 0.9315\n",
      "Epoch 37/100\n",
      "128/128 [==============================] - 0s 556us/step - loss: 0.2007 - accuracy: 0.9323\n",
      "Epoch 38/100\n",
      "128/128 [==============================] - 0s 559us/step - loss: 0.1981 - accuracy: 0.9339\n",
      "Epoch 39/100\n",
      "128/128 [==============================] - 0s 547us/step - loss: 0.1959 - accuracy: 0.9331\n",
      "Epoch 40/100\n",
      "128/128 [==============================] - 0s 542us/step - loss: 0.1949 - accuracy: 0.9323\n",
      "Epoch 41/100\n",
      "128/128 [==============================] - 0s 570us/step - loss: 0.1914 - accuracy: 0.9339\n",
      "Epoch 42/100\n",
      "128/128 [==============================] - 0s 560us/step - loss: 0.1914 - accuracy: 0.9331\n",
      "Epoch 43/100\n",
      "128/128 [==============================] - 0s 554us/step - loss: 0.1878 - accuracy: 0.9386\n",
      "Epoch 44/100\n",
      "128/128 [==============================] - 0s 545us/step - loss: 0.1864 - accuracy: 0.9378\n",
      "Epoch 45/100\n",
      "128/128 [==============================] - 0s 578us/step - loss: 0.1860 - accuracy: 0.9355\n",
      "Epoch 46/100\n",
      "128/128 [==============================] - 0s 561us/step - loss: 0.1825 - accuracy: 0.9386\n",
      "Epoch 47/100\n",
      "128/128 [==============================] - 0s 563us/step - loss: 0.1810 - accuracy: 0.9371\n",
      "Epoch 48/100\n",
      "128/128 [==============================] - 0s 580us/step - loss: 0.1805 - accuracy: 0.9386\n",
      "Epoch 49/100\n",
      "128/128 [==============================] - 0s 579us/step - loss: 0.1797 - accuracy: 0.9378\n",
      "Epoch 50/100\n",
      "128/128 [==============================] - 0s 550us/step - loss: 0.1875 - accuracy: 0.9308\n",
      "Epoch 51/100\n",
      "128/128 [==============================] - 0s 554us/step - loss: 0.1756 - accuracy: 0.9418\n",
      "Epoch 52/100\n",
      "128/128 [==============================] - 0s 561us/step - loss: 0.1765 - accuracy: 0.9386\n",
      "Epoch 53/100\n",
      "128/128 [==============================] - 0s 547us/step - loss: 0.1759 - accuracy: 0.9418\n",
      "Epoch 54/100\n",
      "128/128 [==============================] - 0s 544us/step - loss: 0.1740 - accuracy: 0.9426\n",
      "Epoch 55/100\n",
      "128/128 [==============================] - 0s 540us/step - loss: 0.1729 - accuracy: 0.9402\n",
      "Epoch 56/100\n",
      "128/128 [==============================] - 0s 542us/step - loss: 0.1710 - accuracy: 0.9378\n",
      "Epoch 57/100\n",
      "128/128 [==============================] - 0s 536us/step - loss: 0.1726 - accuracy: 0.9394\n",
      "Epoch 58/100\n",
      "128/128 [==============================] - 0s 538us/step - loss: 0.1707 - accuracy: 0.9363\n",
      "Epoch 59/100\n",
      "128/128 [==============================] - 0s 552us/step - loss: 0.1686 - accuracy: 0.9402\n",
      "Epoch 60/100\n",
      "128/128 [==============================] - 0s 545us/step - loss: 0.1686 - accuracy: 0.9426\n",
      "Epoch 61/100\n",
      "128/128 [==============================] - 0s 545us/step - loss: 0.1663 - accuracy: 0.9449\n",
      "Epoch 62/100\n",
      "128/128 [==============================] - 0s 544us/step - loss: 0.1656 - accuracy: 0.9449\n",
      "Epoch 63/100\n",
      "128/128 [==============================] - 0s 547us/step - loss: 0.1650 - accuracy: 0.9434\n",
      "Epoch 64/100\n",
      "128/128 [==============================] - 0s 549us/step - loss: 0.1629 - accuracy: 0.9473\n",
      "Epoch 65/100\n",
      "128/128 [==============================] - 0s 538us/step - loss: 0.1630 - accuracy: 0.9426\n",
      "Epoch 66/100\n",
      "128/128 [==============================] - 0s 547us/step - loss: 0.1612 - accuracy: 0.9457\n",
      "Epoch 67/100\n",
      "128/128 [==============================] - 0s 540us/step - loss: 0.1624 - accuracy: 0.9465\n",
      "Epoch 68/100\n",
      "128/128 [==============================] - 0s 579us/step - loss: 0.1592 - accuracy: 0.9434\n",
      "Epoch 69/100\n",
      "128/128 [==============================] - 0s 536us/step - loss: 0.1578 - accuracy: 0.9457\n",
      "Epoch 70/100\n",
      "128/128 [==============================] - 0s 540us/step - loss: 0.1593 - accuracy: 0.9441\n",
      "Epoch 71/100\n",
      "128/128 [==============================] - 0s 568us/step - loss: 0.1623 - accuracy: 0.9441\n",
      "Epoch 72/100\n",
      "128/128 [==============================] - 0s 567us/step - loss: 0.1581 - accuracy: 0.9410\n",
      "Epoch 73/100\n",
      "128/128 [==============================] - 0s 711us/step - loss: 0.1555 - accuracy: 0.9441\n",
      "Epoch 74/100\n",
      "128/128 [==============================] - 0s 567us/step - loss: 0.1541 - accuracy: 0.9473\n",
      "Epoch 75/100\n",
      "128/128 [==============================] - 0s 545us/step - loss: 0.1543 - accuracy: 0.9449\n",
      "Epoch 76/100\n",
      "128/128 [==============================] - 0s 554us/step - loss: 0.1549 - accuracy: 0.9481\n",
      "Epoch 77/100\n",
      "128/128 [==============================] - 0s 545us/step - loss: 0.1535 - accuracy: 0.9481\n",
      "Epoch 78/100\n",
      "128/128 [==============================] - 0s 540us/step - loss: 0.1543 - accuracy: 0.9473\n",
      "Epoch 79/100\n"
     ]
    },
    {
     "name": "stdout",
     "output_type": "stream",
     "text": [
      "128/128 [==============================] - 0s 543us/step - loss: 0.1504 - accuracy: 0.9489\n",
      "Epoch 80/100\n",
      "128/128 [==============================] - 0s 536us/step - loss: 0.1513 - accuracy: 0.9473\n",
      "Epoch 81/100\n",
      "128/128 [==============================] - 0s 549us/step - loss: 0.1512 - accuracy: 0.9473\n",
      "Epoch 82/100\n",
      "128/128 [==============================] - 0s 544us/step - loss: 0.1492 - accuracy: 0.9528\n",
      "Epoch 83/100\n",
      "128/128 [==============================] - 0s 542us/step - loss: 0.1475 - accuracy: 0.9528\n",
      "Epoch 84/100\n",
      "128/128 [==============================] - 0s 539us/step - loss: 0.1498 - accuracy: 0.9489\n",
      "Epoch 85/100\n",
      "128/128 [==============================] - 0s 540us/step - loss: 0.1475 - accuracy: 0.9504\n",
      "Epoch 86/100\n",
      "128/128 [==============================] - 0s 544us/step - loss: 0.1473 - accuracy: 0.9512\n",
      "Epoch 87/100\n",
      "128/128 [==============================] - 0s 535us/step - loss: 0.1466 - accuracy: 0.9489\n",
      "Epoch 88/100\n",
      "128/128 [==============================] - 0s 561us/step - loss: 0.1456 - accuracy: 0.9528\n",
      "Epoch 89/100\n",
      "128/128 [==============================] - 0s 546us/step - loss: 0.1456 - accuracy: 0.9544\n",
      "Epoch 90/100\n",
      "128/128 [==============================] - 0s 548us/step - loss: 0.1522 - accuracy: 0.9465\n",
      "Epoch 91/100\n",
      "128/128 [==============================] - 0s 540us/step - loss: 0.1470 - accuracy: 0.9504\n",
      "Epoch 92/100\n",
      "128/128 [==============================] - 0s 538us/step - loss: 0.1436 - accuracy: 0.9544\n",
      "Epoch 93/100\n",
      "128/128 [==============================] - 0s 534us/step - loss: 0.1444 - accuracy: 0.9544\n",
      "Epoch 94/100\n",
      "128/128 [==============================] - 0s 546us/step - loss: 0.1445 - accuracy: 0.9536\n",
      "Epoch 95/100\n",
      "128/128 [==============================] - 0s 541us/step - loss: 0.1420 - accuracy: 0.9520\n",
      "Epoch 96/100\n",
      "128/128 [==============================] - 0s 549us/step - loss: 0.1437 - accuracy: 0.9552\n",
      "Epoch 97/100\n",
      "128/128 [==============================] - 0s 547us/step - loss: 0.1422 - accuracy: 0.9528\n",
      "Epoch 98/100\n",
      "128/128 [==============================] - 0s 538us/step - loss: 0.1410 - accuracy: 0.9536\n",
      "Epoch 99/100\n",
      "128/128 [==============================] - 0s 537us/step - loss: 0.1425 - accuracy: 0.9544\n",
      "Epoch 100/100\n",
      "128/128 [==============================] - 0s 537us/step - loss: 0.1433 - accuracy: 0.9489\n"
     ]
    }
   ],
   "source": [
    "\n",
    "#Fitting the data to the training dataset\n",
    "classifier.fit(X_train_d,y_train_d, batch_size=10, epochs=100)\n",
    "\n",
    "y_pred_d=classifier.predict(X_test_d)\n",
    "y_pred_d =(y_pred_d>0.5)\n",
    "\n",
    "\n",
    "y_pred_d=[0 if  i == False else 1 for i in y_pred_d]\n",
    "\n",
    "y_pred_arr = np.array(y_pred_d)"
   ]
  },
  {
   "cell_type": "code",
   "execution_count": 44,
   "metadata": {
    "colab": {
     "base_uri": "https://localhost:8080/",
     "height": 232
    },
    "id": "cF7q4mJM_VoI",
    "outputId": "47097893-65b7-4d85-fcdc-1f7578a72332"
   },
   "outputs": [
    {
     "name": "stdout",
     "output_type": "stream",
     "text": [
      "Sensitivity: 0.8666666666666667\n",
      "Specificity: 0.9065040650406504\n",
      "Accuracy: 0.8846153846153846\n"
     ]
    }
   ],
   "source": [
    "def calculate_sensitivity_specificity(y_test, y_pred_test):\n",
    "    # Note: More parameters are defined than necessary.\n",
    "    # This would allow return of other measures other than sensitivity and specificity\n",
    "    # Get true/false for whether a breach actually occurred\n",
    "    actual_pos = y_test == 1\n",
    "    actual_neg = y_test == 0\n",
    "    # Get true and false test (true test match actual, false tests differ from actual)\n",
    "    true_pos = (y_pred_test == 1) & (actual_pos)\n",
    "    false_pos = (y_pred_test == 1) & (actual_neg)\n",
    "    true_neg = (y_pred_test == 0) & (actual_neg)\n",
    "    false_neg = (y_pred_test == 0) & (actual_pos)\n",
    "    # Calculate accuracy\n",
    "    accuracy = np.mean(y_pred_test == y_test)\n",
    "    # Calculate sensitivity and specificity\n",
    "    sensitivity = np.sum(true_pos) / np.sum(actual_pos)\n",
    "    specificity = np.sum(true_neg) / np.sum(actual_neg)\n",
    "    return sensitivity, specificity, accuracy\n",
    "\n",
    "\n",
    "sensitivity, specificity, accuracy = calculate_sensitivity_specificity(y_test_d, y_pred_arr)\n",
    "print ('Sensitivity:', sensitivity)\n",
    "print ('Specificity:', specificity)\n",
    "print ('Accuracy:', accuracy)"
   ]
  },
  {
   "cell_type": "markdown",
   "metadata": {
    "id": "MGiuTOvw_sUU"
   },
   "source": [
    "## Multiclass Classification For localizing the cancer type"
   ]
  },
  {
   "cell_type": "code",
   "execution_count": 45,
   "metadata": {
    "id": "Ga7XSNoqvZd-"
   },
   "outputs": [],
   "source": [
    "import pandas as pd\n"
   ]
  },
  {
   "cell_type": "code",
   "execution_count": 46,
   "metadata": {
    "id": "GcE9eo0w_rst"
   },
   "outputs": [],
   "source": [
    "multi_my_df=pd.read_csv('./data.csv')"
   ]
  },
  {
   "cell_type": "code",
   "execution_count": 47,
   "metadata": {
    "id": "kKpCB5Jg_zRz"
   },
   "outputs": [],
   "source": [
    "multi_my_df = multi_my_df[multi_my_df.Tumor_type != 'Normal']"
   ]
  },
  {
   "cell_type": "code",
   "execution_count": 48,
   "metadata": {
    "id": "ULnqLDIP_4K-"
   },
   "outputs": [],
   "source": [
    "from sklearn import preprocessing\n",
    "le = preprocessing.LabelEncoder()\n",
    "le.fit(multi_my_df['Sex'])\n",
    "\n",
    "multi_my_df['Sex']=le.transform(multi_my_df['Sex'])"
   ]
  },
  {
   "cell_type": "code",
   "execution_count": 49,
   "metadata": {
    "id": "Rm54Yd7U_9J0"
   },
   "outputs": [],
   "source": [
    "y=multi_my_df['Tumor_type'].copy()\n",
    "x=multi_my_df.drop(['Plasma_volume(mL)','Tumor_type','AJCC_Stage',\n",
    "       'Plasma_DNA_concentration(ng/mL)', 'Mutation_identified_in_plasma',\n",
    "       'Mutant_allele_frequency(%)', 'Mutant_fragments/mL_plasma','Mutation_identified_in_plasma','Target','Patient_ID','Sample_ID','Tumor_type','AJCC_Stage','Histopathology','Race','Unnamed: 0'],axis=1)\n"
   ]
  },
  {
   "cell_type": "markdown",
   "metadata": {},
   "source": [
    "### plotting the Multiclass Distribution"
   ]
  },
  {
   "cell_type": "code",
   "execution_count": 50,
   "metadata": {
    "colab": {
     "base_uri": "https://localhost:8080/",
     "height": 401
    },
    "id": "4bqwMfwOADh4",
    "outputId": "393cd44d-0981-4c70-e5e4-c26865d234a0"
   },
   "outputs": [
    {
     "name": "stdout",
     "output_type": "stream",
     "text": [
      "Class=Colorectum, n=388 (38.607%)\n",
      "Class=Lung, n=104 (10.348%)\n",
      "Class=Breast, n=209 (20.796%)\n",
      "Class=Pancreas, n=93 (9.254%)\n",
      "Class=Ovary, n=54 (5.373%)\n",
      "Class=Esophagus, n=45 (4.478%)\n",
      "Class=Liver, n=44 (4.378%)\n",
      "Class=Stomach, n=68 (6.766%)\n"
     ]
    },
    {
     "data": {
      "image/png": "[encoded data removed]",
      "text/plain": [
       "<Figure size 432x288 with 1 Axes>"
      ]
     },
     "metadata": {
      "needs_background": "light"
     },
     "output_type": "display_data"
    }
   ],
   "source": [
    "from collections import Counter\n",
    "from matplotlib import pyplot\n",
    "counter = Counter(y)\n",
    "for k,v in counter.items():\n",
    "\tper = v / len(y) * 100\n",
    "\tprint('Class=%s, n=%d (%.3f%%)' % (k, v, per))\n",
    "# plot the distribution\n",
    "pyplot.bar(counter.keys(), counter.values())\n",
    "pyplot.show()"
   ]
  },
  {
   "cell_type": "code",
   "execution_count": 51,
   "metadata": {
    "id": "2dp9ptj3AFZQ"
   },
   "outputs": [],
   "source": [
    "num_pipeline = Pipeline([\n",
    "('imputer', SimpleImputer(strategy=\"median\")),\n",
    "# ('std_scaler', StandardScaler()),\n",
    "])\n",
    "\n",
    "df_prepared = num_pipeline.fit_transform(x)\n",
    "new_x = pd.DataFrame(df_prepared)\n",
    "new_x.columns = x.columns"
   ]
  },
  {
   "cell_type": "code",
   "execution_count": 52,
   "metadata": {
    "id": "Wk1t75QMAII8"
   },
   "outputs": [],
   "source": [
    "# main data\n",
    "x_train, x_test, y_train, y_test = train_test_split(\n",
    "    new_x,\n",
    "    y,\n",
    "    test_size=0.25,\n",
    "    random_state=42)\n",
    "\n",
    "y_label_uniqe=list(y.unique())"
   ]
  },
  {
   "cell_type": "markdown",
   "metadata": {},
   "source": [
    "### naive_bayes - multiclass"
   ]
  },
  {
   "cell_type": "code",
   "execution_count": 53,
   "metadata": {},
   "outputs": [],
   "source": [
    "from sklearn.naive_bayes import MultinomialNB\n",
    "\n",
    "nb = MultinomialNB()\n",
    "nb.fit(x_train, y_train)\n",
    "predictions_nb = nb.predict(x_test)"
   ]
  },
  {
   "cell_type": "code",
   "execution_count": 54,
   "metadata": {},
   "outputs": [
    {
     "name": "stdout",
     "output_type": "stream",
     "text": [
      "Testing accuracy on selected features: 0.302\n"
     ]
    }
   ],
   "source": [
    "print('Testing accuracy on selected features: %.3f' % acc(y_test, predictions_nb))"
   ]
  },
  {
   "cell_type": "markdown",
   "metadata": {},
   "source": [
    "### Random Forest - multiclass"
   ]
  },
  {
   "cell_type": "code",
   "execution_count": 55,
   "metadata": {
    "colab": {
     "base_uri": "https://localhost:8080/"
    },
    "id": "E98CmotmAdyM",
    "outputId": "44244585-84e9-42d6-e62e-a8b66c6d7103"
   },
   "outputs": [
    {
     "name": "stdout",
     "output_type": "stream",
     "text": [
      "Testing accuracy on selected features: 0.690\n"
     ]
    }
   ],
   "source": [
    "\n",
    "clf_random = RandomForestClassifier(n_estimators=100, n_jobs=-1)\n",
    "\n",
    "clf_random.fit(x_train, y_train)\n",
    "\n",
    "# y_train_pred = clf.predict(x_train[x_train.columns[feat_cols]])\n",
    "# print('Training accuracy on selected features: %.3f' % acc(y_train, y_train_pred))\n",
    "\n",
    "y_test_pred = clf_random.predict(x_test)\n",
    "print('Testing accuracy on selected features: %.3f' % acc(y_test, y_test_pred))"
   ]
  },
  {
   "cell_type": "code",
   "execution_count": null,
   "metadata": {},
   "outputs": [],
   "source": []
  },
  {
   "cell_type": "code",
   "execution_count": 56,
   "metadata": {
    "colab": {
     "base_uri": "https://localhost:8080/"
    },
    "id": "DbSISbnZAgxN",
    "outputId": "f9ee3694-4517-4067-c3ae-2e9790e4b455"
   },
   "outputs": [
    {
     "data": {
      "text/plain": [
       "0.6233274496401889"
      ]
     },
     "execution_count": 56,
     "metadata": {},
     "output_type": "execute_result"
    }
   ],
   "source": [
    "from sklearn.metrics import roc_auc_score\n",
    "\n",
    "roc_auc_score(y_test, nb.predict_proba(x_test), multi_class='ovr')"
   ]
  },
  {
   "cell_type": "code",
   "execution_count": 57,
   "metadata": {
    "colab": {
     "base_uri": "https://localhost:8080/",
     "height": 164
    },
    "id": "loOYO6-XAixY",
    "outputId": "285d758a-be3a-4fc7-883c-8500b131bcaa"
   },
   "outputs": [],
   "source": [
    "from sklearn.metrics import confusion_matrix\n",
    "\n",
    "cf_mat=confusion_matrix(y_test, predictions_nb)"
   ]
  },
  {
   "cell_type": "code",
   "execution_count": 58,
   "metadata": {
    "colab": {
     "base_uri": "https://localhost:8080/",
     "height": 638
    },
    "id": "yegczJneAlFL",
    "outputId": "f3c21c02-15a4-47d2-8ca0-246dc924efaa"
   },
   "outputs": [
    {
     "data": {
      "image/png": "[encoded data removed]",
      "text/plain": [
       "<Figure size 720x720 with 2 Axes>"
      ]
     },
     "metadata": {
      "needs_background": "light"
     },
     "output_type": "display_data"
    }
   ],
   "source": [
    "from sklearn.metrics import plot_confusion_matrix\n",
    "import matplotlib.pyplot as plt  \n",
    "fig, ax = plt.subplots(figsize=(10, 10))\n",
    "ax.tick_params(axis='both', which='major', labelsize=15)\n",
    "plot_confusion_matrix(nb, x_test, y_test,ax=ax)  \n",
    "plt.xticks(rotation=90)\n",
    "plt.show() "
   ]
  },
  {
   "cell_type": "code",
   "execution_count": 59,
   "metadata": {
    "id": "bKAVez58AmzU"
   },
   "outputs": [],
   "source": [
    "\n",
    "def sensitivity_specificity_multiclass(conf_matrix, labels):\n",
    "\n",
    "    labels = sorted(labels) #sort labels in case the input list was not sorted\n",
    "\n",
    "    sensitivity = dict()\n",
    "\n",
    "    specificity = dict()\n",
    "\n",
    "    for i in range(0, conf_matrix.shape[0]):\n",
    "\n",
    "        tp = conf_matrix[i,i]\n",
    "\n",
    "        fn = np.sum(conf_matrix[i,:]) - conf_matrix[i,i]\n",
    "\n",
    "        sensitivity[labels[i]] = tp / (tp + fn)\n",
    "\n",
    "        tn = np.sum(np.delete(np.delete(conf_matrix, i, 1), i, 0))\n",
    "\n",
    "        fp = np.sum(conf_matrix[:,i]) - conf_matrix[i,i]\n",
    "\n",
    "        specificity[labels[i]] = tn / (tn + fp)\n",
    "\n",
    "    return (sensitivity, specificity)\n",
    "\n",
    "sensitivity, specificity=sensitivity_specificity_multiclass(cf_mat,y_label_uniqe)"
   ]
  },
  {
   "cell_type": "code",
   "execution_count": 60,
   "metadata": {
    "id": "6bhBA1aXAsf5"
   },
   "outputs": [
    {
     "data": {
      "text/plain": [
       "{'Breast': 0.36538461538461536,\n",
       " 'Colorectum': 0.15463917525773196,\n",
       " 'Esophagus': 0.6,\n",
       " 'Liver': 0.3333333333333333,\n",
       " 'Lung': 0.35714285714285715,\n",
       " 'Ovary': 0.25,\n",
       " 'Pancreas': 0.6451612903225806,\n",
       " 'Stomach': 0.058823529411764705}"
      ]
     },
     "execution_count": 60,
     "metadata": {},
     "output_type": "execute_result"
    }
   ],
   "source": [
    "sensitivity"
   ]
  },
  {
   "cell_type": "code",
   "execution_count": 61,
   "metadata": {},
   "outputs": [
    {
     "data": {
      "text/plain": [
       "{'Breast': 0.865,\n",
       " 'Colorectum': 0.8838709677419355,\n",
       " 'Esophagus': 0.8553719008264463,\n",
       " 'Liver': 1.0,\n",
       " 'Lung': 0.8526785714285714,\n",
       " 'Ovary': 0.9631147540983607,\n",
       " 'Pancreas': 0.7737556561085973,\n",
       " 'Stomach': 0.9829787234042553}"
      ]
     },
     "execution_count": 61,
     "metadata": {},
     "output_type": "execute_result"
    }
   ],
   "source": [
    "specificity"
   ]
  },
  {
   "cell_type": "markdown",
   "metadata": {},
   "source": [
    "#### Over sampling the data to evenly distribute the classes"
   ]
  },
  {
   "cell_type": "code",
   "execution_count": 62,
   "metadata": {
    "colab": {
     "base_uri": "https://localhost:8080/"
    },
    "id": "oHY5Ngg-Ax4I",
    "outputId": "5c074518-d460-444d-b8c5-c17f8eb3ee34"
   },
   "outputs": [],
   "source": [
    "from imblearn.over_sampling import RandomOverSampler\n",
    "ros = RandomOverSampler(random_state=42)\n",
    "X_over_resampled, y_over_resampled = ros.fit_resample(new_x, y)"
   ]
  },
  {
   "cell_type": "code",
   "execution_count": 63,
   "metadata": {
    "id": "CFy2JfV-C6LF"
   },
   "outputs": [],
   "source": [
    "x_o = pd.DataFrame(X_over_resampled)\n",
    "x_o.columns = new_x.columns"
   ]
  },
  {
   "cell_type": "code",
   "execution_count": 64,
   "metadata": {
    "colab": {
     "base_uri": "https://localhost:8080/",
     "height": 669
    },
    "id": "AagdMV8sA0Hx",
    "outputId": "8de611d3-5e98-4889-8b3b-c0f94ed63c9d"
   },
   "outputs": [
    {
     "name": "stdout",
     "output_type": "stream",
     "text": [
      "Class=Colorectum, n=388 (38.607%)\n",
      "Class=Lung, n=388 (38.607%)\n",
      "Class=Breast, n=388 (38.607%)\n",
      "Class=Pancreas, n=388 (38.607%)\n",
      "Class=Ovary, n=388 (38.607%)\n",
      "Class=Esophagus, n=388 (38.607%)\n",
      "Class=Liver, n=388 (38.607%)\n",
      "Class=Stomach, n=388 (38.607%)\n"
     ]
    },
    {
     "data": {
      "image/png": "[encoded data removed]",
      "text/plain": [
       "<Figure size 1440x720 with 1 Axes>"
      ]
     },
     "metadata": {
      "needs_background": "light"
     },
     "output_type": "display_data"
    }
   ],
   "source": [
    "from collections import Counter\n",
    "from matplotlib import pyplot\n",
    "counter = Counter(y_over_resampled)\n",
    "for k,v in counter.items():\n",
    "\tper = v / len(y) * 100\n",
    "\tprint('Class=%s, n=%d (%.3f%%)' % (k, v, per))\n",
    "# plot the distribution\n",
    "plt.figure(figsize=(20,10))\n",
    "plt.xlabel('Cancer Types', fontsize=18)\n",
    "plt.ylabel('Counts', fontsize=16)\n",
    "plt.xticks(fontsize=20)\n",
    "plt.yticks(fontsize=20)\n",
    "pyplot.bar(counter.keys(), counter.values())\n",
    "\n",
    "pyplot.show()"
   ]
  },
  {
   "cell_type": "code",
   "execution_count": 65,
   "metadata": {
    "id": "Xyr3YLvvA2RV"
   },
   "outputs": [],
   "source": [
    "x_train_o, x_test_o, y_train_o, y_test_o = train_test_split(\n",
    "    x_o,\n",
    "    y_over_resampled,\n",
    "    test_size=0.25,\n",
    "    random_state=42)"
   ]
  },
  {
   "cell_type": "markdown",
   "metadata": {},
   "source": [
    "#### naive_bayes - multiclass with Over Sampled Data"
   ]
  },
  {
   "cell_type": "code",
   "execution_count": 66,
   "metadata": {},
   "outputs": [
    {
     "name": "stdout",
     "output_type": "stream",
     "text": [
      "Testing accuracy on selected features: 0.393\n"
     ]
    }
   ],
   "source": [
    "from sklearn.naive_bayes import MultinomialNB\n",
    "\n",
    "nb = MultinomialNB()\n",
    "nb.fit(x_train_o, y_train_o)\n",
    "predictions_nb = nb.predict(x_test_o)\n",
    "print('Testing accuracy on selected features: %.3f' % acc(y_test_o, predictions_nb))"
   ]
  },
  {
   "cell_type": "code",
   "execution_count": 67,
   "metadata": {
    "colab": {
     "base_uri": "https://localhost:8080/"
    },
    "id": "cyXUdvGVA7WQ",
    "outputId": "26320a0d-5325-4ba8-efb1-2d207f7faab7"
   },
   "outputs": [
    {
     "data": {
      "text/plain": [
       "0.6555266441184011"
      ]
     },
     "execution_count": 67,
     "metadata": {},
     "output_type": "execute_result"
    }
   ],
   "source": [
    "## roc score for NB\n",
    "from sklearn.metrics import roc_auc_score\n",
    "roc_auc_score(y_test_o, nb.predict_proba(x_test_o), multi_class='ovr')"
   ]
  },
  {
   "cell_type": "code",
   "execution_count": 68,
   "metadata": {
    "id": "21IWc_HqA-ja"
   },
   "outputs": [],
   "source": [
    "from sklearn.metrics import confusion_matrix\n",
    "\n",
    "cf_mat_o=confusion_matrix(y_test_o, predictions_nb)"
   ]
  },
  {
   "cell_type": "code",
   "execution_count": 69,
   "metadata": {
    "colab": {
     "base_uri": "https://localhost:8080/",
     "height": 634
    },
    "id": "3koVUEuCBBxb",
    "outputId": "a8ab609f-66a9-4c95-e837-f67e44742fd2"
   },
   "outputs": [
    {
     "data": {
      "image/png": "[encoded data removed]",
      "text/plain": [
       "<Figure size 720x720 with 2 Axes>"
      ]
     },
     "metadata": {
      "needs_background": "light"
     },
     "output_type": "display_data"
    }
   ],
   "source": [
    "from sklearn.metrics import plot_confusion_matrix\n",
    "import matplotlib.pyplot as plt  \n",
    "fig, ax = plt.subplots(figsize=(10, 10))\n",
    "ax.tick_params(axis='both', which='major', labelsize=15)\n",
    "plot_confusion_matrix(nb, x_test_o, y_test_o,ax=ax)  \n",
    "plt.xticks(rotation=90)\n",
    "plt.show() "
   ]
  },
  {
   "cell_type": "markdown",
   "metadata": {},
   "source": [
    "#### Random forest - multiclass with over sampled data"
   ]
  },
  {
   "cell_type": "code",
   "execution_count": 70,
   "metadata": {
    "id": "V8LrqekZA4yi"
   },
   "outputs": [
    {
     "name": "stdout",
     "output_type": "stream",
     "text": [
      "Testing accuracy on selected features: 0.965\n"
     ]
    }
   ],
   "source": [
    "clf_random_o = RandomForestClassifier(n_estimators=100, n_jobs=-1)\n",
    "\n",
    "clf_random_o.fit(x_train_o, y_train_o)\n",
    "\n",
    "\n",
    "y_test_pred_o = clf_random_o.predict(x_test_o)\n",
    "print('Testing accuracy on selected features: %.3f' % acc(y_test_o, y_test_pred_o))"
   ]
  },
  {
   "cell_type": "code",
   "execution_count": 71,
   "metadata": {
    "colab": {
     "base_uri": "https://localhost:8080/"
    },
    "id": "cyXUdvGVA7WQ",
    "outputId": "26320a0d-5325-4ba8-efb1-2d207f7faab7"
   },
   "outputs": [
    {
     "data": {
      "text/plain": [
       "0.9986781875208501"
      ]
     },
     "execution_count": 71,
     "metadata": {},
     "output_type": "execute_result"
    }
   ],
   "source": [
    "## roc score for RandomForestClassifier\n",
    "from sklearn.metrics import roc_auc_score\n",
    "roc_auc_score(y_test_o, clf_random_o.predict_proba(x_test_o), multi_class='ovr')"
   ]
  },
  {
   "cell_type": "code",
   "execution_count": 72,
   "metadata": {
    "id": "21IWc_HqA-ja"
   },
   "outputs": [],
   "source": [
    "from sklearn.metrics import confusion_matrix\n",
    "\n",
    "cf_mat_o=confusion_matrix(y_test_o, y_test_pred_o)"
   ]
  },
  {
   "cell_type": "code",
   "execution_count": 73,
   "metadata": {
    "colab": {
     "base_uri": "https://localhost:8080/",
     "height": 634
    },
    "id": "3koVUEuCBBxb",
    "outputId": "a8ab609f-66a9-4c95-e837-f67e44742fd2"
   },
   "outputs": [
    {
     "data": {
      "image/png": "[encoded data removed]",
      "text/plain": [
       "<Figure size 720x720 with 2 Axes>"
      ]
     },
     "metadata": {
      "needs_background": "light"
     },
     "output_type": "display_data"
    }
   ],
   "source": [
    "from sklearn.metrics import plot_confusion_matrix\n",
    "import matplotlib.pyplot as plt  \n",
    "fig, ax = plt.subplots(figsize=(10, 10))\n",
    "ax.tick_params(axis='both', which='major', labelsize=15)\n",
    "plot_confusion_matrix(clf_random_o, x_test_o, y_test_o,ax=ax)  \n",
    "plt.xticks(rotation=90)\n",
    "plt.show() "
   ]
  },
  {
   "cell_type": "code",
   "execution_count": 74,
   "metadata": {
    "id": "xVZ_5qxKBDjZ"
   },
   "outputs": [],
   "source": [
    "sensitivity_o, specificity_o=sensitivity_specificity_multiclass(cf_mat_o,y_label_uniqe)"
   ]
  },
  {
   "cell_type": "code",
   "execution_count": 75,
   "metadata": {
    "id": "8k9Wmb9FBHqT"
   },
   "outputs": [
    {
     "data": {
      "text/plain": [
       "{'Breast': 0.9019607843137255,\n",
       " 'Colorectum': 0.8365384615384616,\n",
       " 'Esophagus': 1.0,\n",
       " 'Liver': 1.0,\n",
       " 'Lung': 1.0,\n",
       " 'Ovary': 1.0,\n",
       " 'Pancreas': 1.0,\n",
       " 'Stomach': 1.0}"
      ]
     },
     "execution_count": 75,
     "metadata": {},
     "output_type": "execute_result"
    }
   ],
   "source": [
    "sensitivity_o"
   ]
  },
  {
   "cell_type": "code",
   "execution_count": 76,
   "metadata": {
    "id": "K1QAH2yoBJ08"
   },
   "outputs": [
    {
     "data": {
      "text/plain": [
       "{'Breast': 0.9970326409495549,\n",
       " 'Colorectum': 0.9880952380952381,\n",
       " 'Esophagus': 0.9984962406015038,\n",
       " 'Liver': 1.0,\n",
       " 'Lung': 0.9885222381635581,\n",
       " 'Ovary': 1.0,\n",
       " 'Pancreas': 0.995575221238938,\n",
       " 'Stomach': 0.9925816023738873}"
      ]
     },
     "execution_count": 76,
     "metadata": {},
     "output_type": "execute_result"
    }
   ],
   "source": [
    "specificity_o"
   ]
  },
  {
   "cell_type": "markdown",
   "metadata": {},
   "source": [
    "### Hyper parameter tuning to improve random forest multiclass results"
   ]
  },
  {
   "cell_type": "code",
   "execution_count": 77,
   "metadata": {},
   "outputs": [],
   "source": [
    "clf_random_grid = RandomForestClassifier() "
   ]
  },
  {
   "cell_type": "code",
   "execution_count": 78,
   "metadata": {},
   "outputs": [
    {
     "data": {
      "text/plain": [
       "GridSearchCV(estimator=RandomForestClassifier(),\n",
       "             param_grid={'bootstrap': [True], 'max_depth': [10, 20, 30, 40],\n",
       "                         'min_samples_leaf': [3, 4, 5],\n",
       "                         'min_samples_split': [8, 10, 12],\n",
       "                         'n_estimators': [100, 200, 300, 1000]})"
      ]
     },
     "execution_count": 78,
     "metadata": {},
     "output_type": "execute_result"
    }
   ],
   "source": [
    "from sklearn.model_selection import GridSearchCV\n",
    "param_grid = {\n",
    "    'bootstrap': [True],\n",
    "    'max_depth': [10,20,30,40],\n",
    "    \n",
    "    'min_samples_leaf': [3, 4, 5],\n",
    "    'min_samples_split': [8, 10, 12],\n",
    "    'n_estimators': [100, 200, 300, 1000]\n",
    "}\n",
    "clf = GridSearchCV(clf_random_grid, param_grid)\n",
    "clf.fit(x_train_o, y_train_o)"
   ]
  },
  {
   "cell_type": "code",
   "execution_count": 79,
   "metadata": {},
   "outputs": [
    {
     "data": {
      "text/plain": [
       "{'bootstrap': True,\n",
       " 'max_depth': 40,\n",
       " 'min_samples_leaf': 3,\n",
       " 'min_samples_split': 8,\n",
       " 'n_estimators': 300}"
      ]
     },
     "execution_count": 79,
     "metadata": {},
     "output_type": "execute_result"
    }
   ],
   "source": [
    "clf.best_params_"
   ]
  },
  {
   "cell_type": "code",
   "execution_count": 80,
   "metadata": {},
   "outputs": [],
   "source": [
    "clf_best_par = RandomForestClassifier(bootstrap=True,max_depth=18,min_samples_leaf=1,min_samples_split=4,n_estimators=250)\n",
    "\n"
   ]
  },
  {
   "cell_type": "code",
   "execution_count": 81,
   "metadata": {},
   "outputs": [
    {
     "name": "stdout",
     "output_type": "stream",
     "text": [
      "Testing accuracy on selected features: 0.956\n"
     ]
    }
   ],
   "source": [
    "clf_best_par.fit(x_train_o, y_train_o)\n",
    "\n",
    "y_test_pred = clf_best_par.predict(x_test_o)\n",
    "print('Testing accuracy on selected features: %.3f' % acc(y_test_o, y_test_pred))"
   ]
  },
  {
   "cell_type": "code",
   "execution_count": 82,
   "metadata": {},
   "outputs": [
    {
     "data": {
      "image/png": "[encoded data removed]",
      "text/plain": [
       "<Figure size 720x720 with 2 Axes>"
      ]
     },
     "metadata": {
      "needs_background": "light"
     },
     "output_type": "display_data"
    }
   ],
   "source": [
    "from sklearn.metrics import plot_confusion_matrix\n",
    "import matplotlib.pyplot as plt  \n",
    "fig, ax = plt.subplots(figsize=(10, 10))\n",
    "ax.tick_params(axis='both', which='major', labelsize=15)\n",
    "plot_confusion_matrix(clf_best_par, x_test_o, y_test_o,ax=ax)  \n",
    "plt.xticks(rotation=90)\n",
    "plt.show() "
   ]
  },
  {
   "cell_type": "code",
   "execution_count": 83,
   "metadata": {},
   "outputs": [],
   "source": [
    "from sklearn.metrics import confusion_matrix\n",
    "\n",
    "cf_mat=confusion_matrix(y_test_o, y_test_pred)"
   ]
  },
  {
   "cell_type": "code",
   "execution_count": 84,
   "metadata": {},
   "outputs": [],
   "source": [
    "y_label_uniqe=list(y.unique())"
   ]
  },
  {
   "cell_type": "code",
   "execution_count": 85,
   "metadata": {},
   "outputs": [],
   "source": [
    "\n",
    "def sensitivity_specificity_multiclass(conf_matrix, labels):\n",
    "\n",
    "    labels = sorted(labels) #sort labels in case the input list was not sorted\n",
    "\n",
    "    sensitivity = dict()\n",
    "\n",
    "    specificity = dict()\n",
    "\n",
    "    for i in range(0, conf_matrix.shape[0]):\n",
    "\n",
    "        tp = conf_matrix[i,i]\n",
    "\n",
    "        fn = np.sum(conf_matrix[i,:]) - conf_matrix[i,i]\n",
    "\n",
    "        sensitivity[labels[i]] = tp / (tp + fn)\n",
    "\n",
    "        tn = np.sum(np.delete(np.delete(conf_matrix, i, 1), i, 0))\n",
    "\n",
    "        fp = np.sum(conf_matrix[:,i]) - conf_matrix[i,i]\n",
    "\n",
    "        specificity[labels[i]] = tn / (tn + fp)\n",
    "\n",
    "    return (sensitivity, specificity)\n",
    "\n",
    "sensitivity, specificity=sensitivity_specificity_multiclass(cf_mat,y_label_uniqe)"
   ]
  },
  {
   "cell_type": "code",
   "execution_count": 86,
   "metadata": {},
   "outputs": [
    {
     "data": {
      "text/plain": [
       "{'Breast': 0.9019607843137255,\n",
       " 'Colorectum': 0.7692307692307693,\n",
       " 'Esophagus': 1.0,\n",
       " 'Liver': 1.0,\n",
       " 'Lung': 1.0,\n",
       " 'Ovary': 1.0,\n",
       " 'Pancreas': 1.0,\n",
       " 'Stomach': 1.0}"
      ]
     },
     "execution_count": 86,
     "metadata": {},
     "output_type": "execute_result"
    }
   ],
   "source": [
    "sensitivity"
   ]
  },
  {
   "cell_type": "code",
   "execution_count": 87,
   "metadata": {},
   "outputs": [
    {
     "data": {
      "text/plain": [
       "{'Breast': 0.9955489614243324,\n",
       " 'Colorectum': 0.9895833333333334,\n",
       " 'Esophagus': 0.9984962406015038,\n",
       " 'Liver': 0.9985569985569985,\n",
       " 'Lung': 0.9870875179340028,\n",
       " 'Ovary': 1.0,\n",
       " 'Pancreas': 0.9941002949852508,\n",
       " 'Stomach': 0.9866468842729971}"
      ]
     },
     "execution_count": 87,
     "metadata": {},
     "output_type": "execute_result"
    }
   ],
   "source": [
    "specificity"
   ]
  },
  {
   "cell_type": "code",
   "execution_count": null,
   "metadata": {},
   "outputs": [],
   "source": []
  }
 ],
 "metadata": {
  "colab": {
   "name": "Capstone_models.ipynb",
   "provenance": [],
   "toc_visible": true
  },
  "kernelspec": {
   "display_name": "Python 3",
   "language": "python",
   "name": "python3"
  },
  "language_info": {
   "codemirror_mode": {
    "name": "ipython",
    "version": 3
   },
   "file_extension": ".py",
   "mimetype": "text/x-python",
   "name": "python",
   "nbconvert_exporter": "python",
   "pygments_lexer": "ipython3",
   "version": "3.7.4"
  }
 },
 "nbformat": 4,
 "nbformat_minor": 1
}
